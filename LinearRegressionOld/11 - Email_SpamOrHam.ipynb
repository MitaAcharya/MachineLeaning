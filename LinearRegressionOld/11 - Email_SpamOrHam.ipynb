{
 "cells": [
  {
   "cell_type": "markdown",
   "metadata": {},
   "source": [
    "Spam Classifier Naive Bayes .\n",
    "--------------------------------------------\n",
    "http://www.cut-the-knot.org/Probability/BayesTheorem.shtml\n",
    "\n",
    "P(A|B) = P(B|A)·P(A) / P(B).\n",
    "\n",
    "This is supervised learning.\n",
    "\n"
   ]
  },
  {
   "cell_type": "markdown",
   "metadata": {},
   "source": [
    "Step 1 - Import the Important Libraries."
   ]
  },
  {
   "cell_type": "code",
   "execution_count": 1,
   "metadata": {},
   "outputs": [],
   "source": [
    "import os\n",
    "import io\n",
    "import numpy as np\n",
    "from pandas import DataFrame\n",
    "from sklearn.feature_extraction.text import CountVectorizer\n",
    "from sklearn.naive_bayes import MultinomialNB"
   ]
  },
  {
   "cell_type": "markdown",
   "metadata": {},
   "source": [
    "Step  - Create Panda DataFrame Object which contain 2 empty List."
   ]
  },
  {
   "cell_type": "code",
   "execution_count": 2,
   "metadata": {},
   "outputs": [
    {
     "name": "stdout",
     "output_type": "stream",
     "text": [
      "Empty DataFrame\n",
      "Columns: [message, class]\n",
      "Index: []\n"
     ]
    }
   ],
   "source": [
    "data = DataFrame({'message': [], 'class': []})\n",
    "print(data)"
   ]
  },
  {
   "cell_type": "markdown",
   "metadata": {},
   "source": [
    "Below readFiles will read the Directory path passed to it.\n",
    "\n",
    "os.walk() generate the file names in a directory tree by walking the tree either top-down or bottom-up. For each directory in the tree rooted at directory top (including top itself), it yields a 3-tuple (dirpath, dirnames, filenames).\n",
    "https://www.geeksforgeeks.org/os-walk-python/\n"
   ]
  },
  {
   "cell_type": "markdown",
   "metadata": {},
   "source": [
    "what is io.open vs open in python3?\n",
    "Answer - No difference in python3. (Please Note this Answer is not applicable to Python2.)\n",
    "\n",
    "###########################################################################################################################\n",
    "import io\n",
    "with io.open('test.txt', encoding='utf-8') as f:\n",
    "    text = f.read().lower()\n",
    "with open('test.txt', encoding='utf-8') as f2:\n",
    "    text2 = f2.read().lower()\n",
    "\n",
    "print(type(f))    # <class '_io.TextIOWrapper'>\n",
    "print(type(f2))   # <class '_io.TextIOWrapper'>\n",
    "##########################################################################################################################\n"
   ]
  },
  {
   "cell_type": "markdown",
   "metadata": {},
   "source": [
    "What is the difference between yield and return in python?\n",
    "Imagine a function to be a room. Now imagine you entered that room and incremented a counter which had been initialized to 0. The value of the counter is currently 1. Now you come out of the room back to the position from where you had entered the room (say, your main). If you are asked to go back to the room, then the value of the counter will depend on how you had come out of the room. Had you returned from the room or yielded from the room.\n",
    "\n",
    "If you had returned from the room, the value of the counter will be 0.\n",
    "If you had yielded from the room, the value of the counter will be 1.\n",
    "\n",
    "return basically exits from a function with a value and the local values within is destroyed.\n",
    "\n",
    "yield is sort of exiting from the function but it remembers the state when you had exited from. If you now do a next from your main, you will be starting from the point where you had yielded from.\n",
    "\n",
    "\n",
    "#############################################################################################3\n",
    "\n",
    "\n",
    "def simpleGeneratorFun(): \n",
    "    \n",
    "    yield 1\n",
    "    \n",
    "    yield 2\n",
    "    \n",
    "    yield 3\n",
    "  \n",
    "for value in simpleGeneratorFun():  \n",
    "    print(value) \n",
    "\n",
    "OUTPUT : \n",
    "1\n",
    "2\n",
    "3\n",
    "\n",
    "\n",
    "\n",
    "#############################################################################3\n",
    "Return sends a specified value back to its caller whereas Yield can produce a sequence of values. We should use yield when we want to iterate over a sequence, but don’t want to store the entire sequence in memory.\n",
    "\n",
    "Yield are used in Python generators. A generator function is defined like a normal function, but whenever it needs to generate a value, it does so with the yield keyword rather than return. If the body of a def contains yield, the function automatically becomes a generator function.\n",
    "\n"
   ]
  },
  {
   "cell_type": "code",
   "execution_count": 3,
   "metadata": {},
   "outputs": [
    {
     "name": "stdout",
     "output_type": "stream",
     "text": [
      "<generator object readFiles at 0x000002082A220DB0>\n"
     ]
    }
   ],
   "source": [
    "def readFiles(path):\n",
    "    for root, dirnames, filenames in os.walk(path):\n",
    "        for filename in filenames:\n",
    "            my_file = os.path.join(root, filename)\n",
    "            inBody = False\n",
    "            lines = []\n",
    "            with io.open(my_file, 'r', encoding='latin1') as my_file_opener:\n",
    "                for line in my_file_opener:\n",
    "                    if inBody:\n",
    "                        lines.append(line)\n",
    "                    elif line == '\\n':\n",
    "                        inBody = True\n",
    "            message = '\\n'.join(lines)\n",
    "            yield path, message\n",
    "            \n",
    "\n",
    "A=readFiles(\"D://\")\n",
    "print(A)"
   ]
  },
  {
   "cell_type": "code",
   "execution_count": 4,
   "metadata": {},
   "outputs": [],
   "source": [
    "def dataFrameFromDirectory(path, classification):\n",
    "    rows = []\n",
    "    index = []\n",
    "    for filename, message in readFiles(path):\n",
    "        rows.append({'message': message, 'class': classification})\n",
    "        index.append(filename)\n",
    "    return DataFrame(rows, index=index)\n"
   ]
  },
  {
   "cell_type": "code",
   "execution_count": 5,
   "metadata": {},
   "outputs": [
    {
     "name": "stderr",
     "output_type": "stream",
     "text": [
      "D:\\ProgramData\\Anaconda3\\lib\\site-packages\\pandas\\core\\frame.py:6199: FutureWarning: Sorting because non-concatenation axis is not aligned. A future version\n",
      "of pandas will change to not sort by default.\n",
      "\n",
      "To accept the future behavior, pass 'sort=True'.\n",
      "\n",
      "To retain the current behavior and silence the warning, pass sort=False\n",
      "\n",
      "  return concat(to_concat, ignore_index=ignore_index, verify_integrity=verify_integrity, sort=sort)\n"
     ]
    }
   ],
   "source": [
    "data = data.append(dataFrameFromDirectory('D://myPython//my_numpy//Course-DataSciene//emails//spam', 'spam'))"
   ]
  },
  {
   "cell_type": "code",
   "execution_count": 6,
   "metadata": {},
   "outputs": [],
   "source": [
    "data = data.append(dataFrameFromDirectory('D://myPython//my_numpy//Course-DataSciene//emails//ham', 'ham'))"
   ]
  },
  {
   "cell_type": "code",
   "execution_count": 7,
   "metadata": {},
   "outputs": [
    {
     "data": {
      "text/html": [
       "<div>\n",
       "<style scoped>\n",
       "    .dataframe tbody tr th:only-of-type {\n",
       "        vertical-align: middle;\n",
       "    }\n",
       "\n",
       "    .dataframe tbody tr th {\n",
       "        vertical-align: top;\n",
       "    }\n",
       "\n",
       "    .dataframe thead th {\n",
       "        text-align: right;\n",
       "    }\n",
       "</style>\n",
       "<table border=\"1\" class=\"dataframe\">\n",
       "  <thead>\n",
       "    <tr style=\"text-align: right;\">\n",
       "      <th></th>\n",
       "      <th>class</th>\n",
       "      <th>message</th>\n",
       "    </tr>\n",
       "  </thead>\n",
       "  <tbody>\n",
       "    <tr>\n",
       "      <th>D://myPython//my_numpy//Course-DataSciene//emails//spam</th>\n",
       "      <td>spam</td>\n",
       "      <td>&lt;!DOCTYPE HTML PUBLIC \"-//W3C//DTD HTML 4.0 Tr...</td>\n",
       "    </tr>\n",
       "    <tr>\n",
       "      <th>D://myPython//my_numpy//Course-DataSciene//emails//spam</th>\n",
       "      <td>spam</td>\n",
       "      <td>1) Fight The Risk of Cancer!\\n\\nhttp://www.adc...</td>\n",
       "    </tr>\n",
       "    <tr>\n",
       "      <th>D://myPython//my_numpy//Course-DataSciene//emails//spam</th>\n",
       "      <td>spam</td>\n",
       "      <td>1) Fight The Risk of Cancer!\\n\\nhttp://www.adc...</td>\n",
       "    </tr>\n",
       "    <tr>\n",
       "      <th>D://myPython//my_numpy//Course-DataSciene//emails//spam</th>\n",
       "      <td>spam</td>\n",
       "      <td>##############################################...</td>\n",
       "    </tr>\n",
       "    <tr>\n",
       "      <th>D://myPython//my_numpy//Course-DataSciene//emails//spam</th>\n",
       "      <td>spam</td>\n",
       "      <td>I thought you might like these:\\n\\n1) Slim Dow...</td>\n",
       "    </tr>\n",
       "    <tr>\n",
       "      <th>D://myPython//my_numpy//Course-DataSciene//emails//spam</th>\n",
       "      <td>spam</td>\n",
       "      <td>A POWERHOUSE GIFTING PROGRAM You Don't Want To...</td>\n",
       "    </tr>\n",
       "    <tr>\n",
       "      <th>D://myPython//my_numpy//Course-DataSciene//emails//spam</th>\n",
       "      <td>spam</td>\n",
       "      <td>Help wanted.  We are a 14 year old fortune 500...</td>\n",
       "    </tr>\n",
       "    <tr>\n",
       "      <th>D://myPython//my_numpy//Course-DataSciene//emails//spam</th>\n",
       "      <td>spam</td>\n",
       "      <td>&lt;html&gt;\\n\\n&lt;head&gt;\\n\\n&lt;title&gt;ReliaQuote - Save U...</td>\n",
       "    </tr>\n",
       "    <tr>\n",
       "      <th>D://myPython//my_numpy//Course-DataSciene//emails//spam</th>\n",
       "      <td>spam</td>\n",
       "      <td>TIRED OF THE BULL OUT THERE?\\n\\nWant To Stop L...</td>\n",
       "    </tr>\n",
       "    <tr>\n",
       "      <th>D://myPython//my_numpy//Course-DataSciene//emails//spam</th>\n",
       "      <td>spam</td>\n",
       "      <td>Dear ricardo1 ,\\n\\n\\n\\n&lt;html&gt;\\n\\n&lt;body&gt;\\n\\n&lt;ce...</td>\n",
       "    </tr>\n",
       "    <tr>\n",
       "      <th>D://myPython//my_numpy//Course-DataSciene//emails//spam</th>\n",
       "      <td>spam</td>\n",
       "      <td>Cellular Phone Accessories All At Below Wholes...</td>\n",
       "    </tr>\n",
       "    <tr>\n",
       "      <th>D://myPython//my_numpy//Course-DataSciene//emails//spam</th>\n",
       "      <td>spam</td>\n",
       "      <td>&lt;table width=\"600\" border=\"20\" align=\"center\" ...</td>\n",
       "    </tr>\n",
       "    <tr>\n",
       "      <th>D://myPython//my_numpy//Course-DataSciene//emails//spam</th>\n",
       "      <td>spam</td>\n",
       "      <td>1) Fight The Risk of Cancer!\\n\\nhttp://www.adc...</td>\n",
       "    </tr>\n",
       "    <tr>\n",
       "      <th>D://myPython//my_numpy//Course-DataSciene//emails//spam</th>\n",
       "      <td>spam</td>\n",
       "      <td>&lt;HTML&gt;&lt;HEAD&gt;&lt;TITLE&gt;FREE Motorola Cell Phone wi...</td>\n",
       "    </tr>\n",
       "    <tr>\n",
       "      <th>D://myPython//my_numpy//Course-DataSciene//emails//spam</th>\n",
       "      <td>spam</td>\n",
       "      <td>&lt;HTML&gt;&lt;HEAD&gt;&lt;TITLE&gt;Lowest Rate Services&lt;/TITLE...</td>\n",
       "    </tr>\n",
       "    <tr>\n",
       "      <th>D://myPython//my_numpy//Course-DataSciene//emails//spam</th>\n",
       "      <td>spam</td>\n",
       "      <td>\\n\\n\\n\\nWant to watch Sporting Events?--Movies...</td>\n",
       "    </tr>\n",
       "    <tr>\n",
       "      <th>D://myPython//my_numpy//Course-DataSciene//emails//spam</th>\n",
       "      <td>spam</td>\n",
       "      <td>Help wanted.  We are a 14 year old fortune 500...</td>\n",
       "    </tr>\n",
       "    <tr>\n",
       "      <th>D://myPython//my_numpy//Course-DataSciene//emails//spam</th>\n",
       "      <td>spam</td>\n",
       "      <td>DEAR FRIEND,I AM MRS.  SESE-SEKO WIDOW OF LATE...</td>\n",
       "    </tr>\n",
       "    <tr>\n",
       "      <th>D://myPython//my_numpy//Course-DataSciene//emails//spam</th>\n",
       "      <td>spam</td>\n",
       "      <td>Lowest rates available for term life insurance...</td>\n",
       "    </tr>\n",
       "    <tr>\n",
       "      <th>D://myPython//my_numpy//Course-DataSciene//emails//spam</th>\n",
       "      <td>spam</td>\n",
       "      <td>1) Fight The Risk of Cancer!\\n\\nhttp://www.adc...</td>\n",
       "    </tr>\n",
       "    <tr>\n",
       "      <th>D://myPython//my_numpy//Course-DataSciene//emails//spam</th>\n",
       "      <td>spam</td>\n",
       "      <td>CENTRAL BANK OF NIGERIA\\n\\nFOREIGN REMITTANCE ...</td>\n",
       "    </tr>\n",
       "    <tr>\n",
       "      <th>D://myPython//my_numpy//Course-DataSciene//emails//spam</th>\n",
       "      <td>spam</td>\n",
       "      <td>--===_SecAtt_000_1fheucnqggtggp\\n\\nContent-Typ...</td>\n",
       "    </tr>\n",
       "    <tr>\n",
       "      <th>D://myPython//my_numpy//Course-DataSciene//emails//spam</th>\n",
       "      <td>spam</td>\n",
       "      <td>------=_NextPart_000_00B2_83B03D1E.C6530E24\\n\\...</td>\n",
       "    </tr>\n",
       "    <tr>\n",
       "      <th>D://myPython//my_numpy//Course-DataSciene//emails//spam</th>\n",
       "      <td>spam</td>\n",
       "      <td>This is a multi-part message in MIME format.\\n...</td>\n",
       "    </tr>\n",
       "    <tr>\n",
       "      <th>D://myPython//my_numpy//Course-DataSciene//emails//spam</th>\n",
       "      <td>spam</td>\n",
       "      <td>&lt;HTML&gt;&lt;HEAD&gt;\\n\\n&lt;META http-equiv=3DContent-Typ...</td>\n",
       "    </tr>\n",
       "    <tr>\n",
       "      <th>D://myPython//my_numpy//Course-DataSciene//emails//spam</th>\n",
       "      <td>spam</td>\n",
       "      <td>DEAR FRIEND,I AM MRS.  SESE-SEKO WIDOW OF LATE...</td>\n",
       "    </tr>\n",
       "    <tr>\n",
       "      <th>D://myPython//my_numpy//Course-DataSciene//emails//spam</th>\n",
       "      <td>spam</td>\n",
       "      <td>1) Fight The Risk of Cancer!\\n\\nhttp://www.adc...</td>\n",
       "    </tr>\n",
       "    <tr>\n",
       "      <th>D://myPython//my_numpy//Course-DataSciene//emails//spam</th>\n",
       "      <td>spam</td>\n",
       "      <td>&lt;HTML&gt;&lt;HEAD&gt;&lt;TITLE&gt;MILFhunter&lt;/TITLE&gt;\\n\\n&lt;META...</td>\n",
       "    </tr>\n",
       "    <tr>\n",
       "      <th>D://myPython//my_numpy//Course-DataSciene//emails//spam</th>\n",
       "      <td>spam</td>\n",
       "      <td>&lt;html&gt;\\n\\n&lt;head&gt;\\n\\n&lt;/head&gt;\\n\\n&lt;body&gt;\\n\\n\\n\\n&lt;...</td>\n",
       "    </tr>\n",
       "    <tr>\n",
       "      <th>D://myPython//my_numpy//Course-DataSciene//emails//spam</th>\n",
       "      <td>spam</td>\n",
       "      <td>&lt;html&gt;\\n\\n\\n\\n&lt;head&gt;\\n\\n&lt;meta http-equiv=3D\"Co...</td>\n",
       "    </tr>\n",
       "    <tr>\n",
       "      <th>...</th>\n",
       "      <td>...</td>\n",
       "      <td>...</td>\n",
       "    </tr>\n",
       "    <tr>\n",
       "      <th>D://myPython//my_numpy//Course-DataSciene//emails//ham</th>\n",
       "      <td>ham</td>\n",
       "      <td>This is possible, however using SA as a block ...</td>\n",
       "    </tr>\n",
       "    <tr>\n",
       "      <th>D://myPython//my_numpy//Course-DataSciene//emails//ham</th>\n",
       "      <td>ham</td>\n",
       "      <td>\\n\\n--- Martin Adamson &lt;martin@srv0.ems.ed.ac....</td>\n",
       "    </tr>\n",
       "    <tr>\n",
       "      <th>D://myPython//my_numpy//Course-DataSciene//emails//ham</th>\n",
       "      <td>ham</td>\n",
       "      <td>----- Original Message -----\\n\\nFrom: \"Tim Cha...</td>\n",
       "    </tr>\n",
       "    <tr>\n",
       "      <th>D://myPython//my_numpy//Course-DataSciene//emails//ham</th>\n",
       "      <td>ham</td>\n",
       "      <td>\\n\\n&gt; Mr Tim Chapman, freelance gentleman of l...</td>\n",
       "    </tr>\n",
       "    <tr>\n",
       "      <th>D://myPython//my_numpy//Course-DataSciene//emails//ham</th>\n",
       "      <td>ham</td>\n",
       "      <td>Smith, Graham - Computing Technician wrote:\\n\\...</td>\n",
       "    </tr>\n",
       "    <tr>\n",
       "      <th>D://myPython//my_numpy//Course-DataSciene//emails//ham</th>\n",
       "      <td>ham</td>\n",
       "      <td>Geege wrote a strange story:\\n\\n&gt;I know a guy ...</td>\n",
       "    </tr>\n",
       "    <tr>\n",
       "      <th>D://myPython//my_numpy//Course-DataSciene//emails//ham</th>\n",
       "      <td>ham</td>\n",
       "      <td>\\n\\n[Paul Moore]\\n\\n&gt;    but let's walk before...</td>\n",
       "    </tr>\n",
       "    <tr>\n",
       "      <th>D://myPython//my_numpy//Course-DataSciene//emails//ham</th>\n",
       "      <td>ham</td>\n",
       "      <td>On Mon, Nov 25, 2002 at 06:54:49PM +0000, Phil...</td>\n",
       "    </tr>\n",
       "    <tr>\n",
       "      <th>D://myPython//my_numpy//Course-DataSciene//emails//ham</th>\n",
       "      <td>ham</td>\n",
       "      <td>\\n\\nI don't know how one can expect better and...</td>\n",
       "    </tr>\n",
       "    <tr>\n",
       "      <th>D://myPython//my_numpy//Course-DataSciene//emails//ham</th>\n",
       "      <td>ham</td>\n",
       "      <td>No, you need to learn how declarations work in...</td>\n",
       "    </tr>\n",
       "    <tr>\n",
       "      <th>D://myPython//my_numpy//Course-DataSciene//emails//ham</th>\n",
       "      <td>ham</td>\n",
       "      <td>\\n\\n    Richie&gt; As I understand it, post-1.8x ...</td>\n",
       "    </tr>\n",
       "    <tr>\n",
       "      <th>D://myPython//my_numpy//Course-DataSciene//emails//ham</th>\n",
       "      <td>ham</td>\n",
       "      <td>\\n\\n    Paul&gt; I suspect the best answer is to ...</td>\n",
       "    </tr>\n",
       "    <tr>\n",
       "      <th>D://myPython//my_numpy//Course-DataSciene//emails//ham</th>\n",
       "      <td>ham</td>\n",
       "      <td>The Times\\n\\n\\n\\n \\n\\n December 04, 2002 \\n\\n ...</td>\n",
       "    </tr>\n",
       "    <tr>\n",
       "      <th>D://myPython//my_numpy//Course-DataSciene//emails//ham</th>\n",
       "      <td>ham</td>\n",
       "      <td>I have to say I was surprised about Jacko dang...</td>\n",
       "    </tr>\n",
       "    <tr>\n",
       "      <th>D://myPython//my_numpy//Course-DataSciene//emails//ham</th>\n",
       "      <td>ham</td>\n",
       "      <td>Now then I recently read a novel about exactly...</td>\n",
       "    </tr>\n",
       "    <tr>\n",
       "      <th>D://myPython//my_numpy//Course-DataSciene//emails//ham</th>\n",
       "      <td>ham</td>\n",
       "      <td>What the hell is it with these mini remote con...</td>\n",
       "    </tr>\n",
       "    <tr>\n",
       "      <th>D://myPython//my_numpy//Course-DataSciene//emails//ham</th>\n",
       "      <td>ham</td>\n",
       "      <td>here, for your enjoyment, is a little somethin...</td>\n",
       "    </tr>\n",
       "    <tr>\n",
       "      <th>D://myPython//my_numpy//Course-DataSciene//emails//ham</th>\n",
       "      <td>ham</td>\n",
       "      <td>Sean O'Donnell wrote:\\n\\n&gt; Doesnt answer your ...</td>\n",
       "    </tr>\n",
       "    <tr>\n",
       "      <th>D://myPython//my_numpy//Course-DataSciene//emails//ham</th>\n",
       "      <td>ham</td>\n",
       "      <td>Joe McNally writes:\\n\\n\\n\\n&gt; What the hell is ...</td>\n",
       "    </tr>\n",
       "    <tr>\n",
       "      <th>D://myPython//my_numpy//Course-DataSciene//emails//ham</th>\n",
       "      <td>ham</td>\n",
       "      <td>http://news.bbc.co.uk/1/hi/world/europe/254182...</td>\n",
       "    </tr>\n",
       "    <tr>\n",
       "      <th>D://myPython//my_numpy//Course-DataSciene//emails//ham</th>\n",
       "      <td>ham</td>\n",
       "      <td>Hi all.\\n\\nDoes anyone know how to set up dual...</td>\n",
       "    </tr>\n",
       "    <tr>\n",
       "      <th>D://myPython//my_numpy//Course-DataSciene//emails//ham</th>\n",
       "      <td>ham</td>\n",
       "      <td>Carlos Luna wrote:\\n\\n\\n\\n&gt;Hi all.\\n\\n&gt;Does an...</td>\n",
       "    </tr>\n",
       "    <tr>\n",
       "      <th>D://myPython//my_numpy//Course-DataSciene//emails//ham</th>\n",
       "      <td>ham</td>\n",
       "      <td>Hi all\\n\\n\\n\\n\\n\\nI have a prob when trying to...</td>\n",
       "    </tr>\n",
       "    <tr>\n",
       "      <th>D://myPython//my_numpy//Course-DataSciene//emails//ham</th>\n",
       "      <td>ham</td>\n",
       "      <td>Tim Chapman writes:\\n\\n\\n\\n&gt; http://news.bbc.c...</td>\n",
       "    </tr>\n",
       "    <tr>\n",
       "      <th>D://myPython//my_numpy//Course-DataSciene//emails//ham</th>\n",
       "      <td>ham</td>\n",
       "      <td>&gt; I had the same problem when installing Win o...</td>\n",
       "    </tr>\n",
       "    <tr>\n",
       "      <th>D://myPython//my_numpy//Course-DataSciene//emails//ham</th>\n",
       "      <td>ham</td>\n",
       "      <td>Man killed 'trying to surf' on Tube train \\n\\n...</td>\n",
       "    </tr>\n",
       "    <tr>\n",
       "      <th>D://myPython//my_numpy//Course-DataSciene//emails//ham</th>\n",
       "      <td>ham</td>\n",
       "      <td>Hi Gianni,\\n\\n\\n\\nA very good resource for thi...</td>\n",
       "    </tr>\n",
       "    <tr>\n",
       "      <th>D://myPython//my_numpy//Course-DataSciene//emails//ham</th>\n",
       "      <td>ham</td>\n",
       "      <td>Gianni Ponzi wrote:\\n\\n&gt; I have a prob when tr...</td>\n",
       "    </tr>\n",
       "    <tr>\n",
       "      <th>D://myPython//my_numpy//Course-DataSciene//emails//ham</th>\n",
       "      <td>ham</td>\n",
       "      <td>Neale Pickett &lt;neale@woozle.org&gt; writes:\\n\\n\\n...</td>\n",
       "    </tr>\n",
       "    <tr>\n",
       "      <th>D://myPython//my_numpy//Course-DataSciene//emails//ham</th>\n",
       "      <td>ham</td>\n",
       "      <td>\\n\\nHi,\\n\\n\\n\\nI think you need to give us a l...</td>\n",
       "    </tr>\n",
       "  </tbody>\n",
       "</table>\n",
       "<p>3000 rows × 2 columns</p>\n",
       "</div>"
      ],
      "text/plain": [
       "                                                   class  \\\n",
       "D://myPython//my_numpy//Course-DataSciene//emai...  spam   \n",
       "D://myPython//my_numpy//Course-DataSciene//emai...  spam   \n",
       "D://myPython//my_numpy//Course-DataSciene//emai...  spam   \n",
       "D://myPython//my_numpy//Course-DataSciene//emai...  spam   \n",
       "D://myPython//my_numpy//Course-DataSciene//emai...  spam   \n",
       "D://myPython//my_numpy//Course-DataSciene//emai...  spam   \n",
       "D://myPython//my_numpy//Course-DataSciene//emai...  spam   \n",
       "D://myPython//my_numpy//Course-DataSciene//emai...  spam   \n",
       "D://myPython//my_numpy//Course-DataSciene//emai...  spam   \n",
       "D://myPython//my_numpy//Course-DataSciene//emai...  spam   \n",
       "D://myPython//my_numpy//Course-DataSciene//emai...  spam   \n",
       "D://myPython//my_numpy//Course-DataSciene//emai...  spam   \n",
       "D://myPython//my_numpy//Course-DataSciene//emai...  spam   \n",
       "D://myPython//my_numpy//Course-DataSciene//emai...  spam   \n",
       "D://myPython//my_numpy//Course-DataSciene//emai...  spam   \n",
       "D://myPython//my_numpy//Course-DataSciene//emai...  spam   \n",
       "D://myPython//my_numpy//Course-DataSciene//emai...  spam   \n",
       "D://myPython//my_numpy//Course-DataSciene//emai...  spam   \n",
       "D://myPython//my_numpy//Course-DataSciene//emai...  spam   \n",
       "D://myPython//my_numpy//Course-DataSciene//emai...  spam   \n",
       "D://myPython//my_numpy//Course-DataSciene//emai...  spam   \n",
       "D://myPython//my_numpy//Course-DataSciene//emai...  spam   \n",
       "D://myPython//my_numpy//Course-DataSciene//emai...  spam   \n",
       "D://myPython//my_numpy//Course-DataSciene//emai...  spam   \n",
       "D://myPython//my_numpy//Course-DataSciene//emai...  spam   \n",
       "D://myPython//my_numpy//Course-DataSciene//emai...  spam   \n",
       "D://myPython//my_numpy//Course-DataSciene//emai...  spam   \n",
       "D://myPython//my_numpy//Course-DataSciene//emai...  spam   \n",
       "D://myPython//my_numpy//Course-DataSciene//emai...  spam   \n",
       "D://myPython//my_numpy//Course-DataSciene//emai...  spam   \n",
       "...                                                  ...   \n",
       "D://myPython//my_numpy//Course-DataSciene//emai...   ham   \n",
       "D://myPython//my_numpy//Course-DataSciene//emai...   ham   \n",
       "D://myPython//my_numpy//Course-DataSciene//emai...   ham   \n",
       "D://myPython//my_numpy//Course-DataSciene//emai...   ham   \n",
       "D://myPython//my_numpy//Course-DataSciene//emai...   ham   \n",
       "D://myPython//my_numpy//Course-DataSciene//emai...   ham   \n",
       "D://myPython//my_numpy//Course-DataSciene//emai...   ham   \n",
       "D://myPython//my_numpy//Course-DataSciene//emai...   ham   \n",
       "D://myPython//my_numpy//Course-DataSciene//emai...   ham   \n",
       "D://myPython//my_numpy//Course-DataSciene//emai...   ham   \n",
       "D://myPython//my_numpy//Course-DataSciene//emai...   ham   \n",
       "D://myPython//my_numpy//Course-DataSciene//emai...   ham   \n",
       "D://myPython//my_numpy//Course-DataSciene//emai...   ham   \n",
       "D://myPython//my_numpy//Course-DataSciene//emai...   ham   \n",
       "D://myPython//my_numpy//Course-DataSciene//emai...   ham   \n",
       "D://myPython//my_numpy//Course-DataSciene//emai...   ham   \n",
       "D://myPython//my_numpy//Course-DataSciene//emai...   ham   \n",
       "D://myPython//my_numpy//Course-DataSciene//emai...   ham   \n",
       "D://myPython//my_numpy//Course-DataSciene//emai...   ham   \n",
       "D://myPython//my_numpy//Course-DataSciene//emai...   ham   \n",
       "D://myPython//my_numpy//Course-DataSciene//emai...   ham   \n",
       "D://myPython//my_numpy//Course-DataSciene//emai...   ham   \n",
       "D://myPython//my_numpy//Course-DataSciene//emai...   ham   \n",
       "D://myPython//my_numpy//Course-DataSciene//emai...   ham   \n",
       "D://myPython//my_numpy//Course-DataSciene//emai...   ham   \n",
       "D://myPython//my_numpy//Course-DataSciene//emai...   ham   \n",
       "D://myPython//my_numpy//Course-DataSciene//emai...   ham   \n",
       "D://myPython//my_numpy//Course-DataSciene//emai...   ham   \n",
       "D://myPython//my_numpy//Course-DataSciene//emai...   ham   \n",
       "D://myPython//my_numpy//Course-DataSciene//emai...   ham   \n",
       "\n",
       "                                                                                              message  \n",
       "D://myPython//my_numpy//Course-DataSciene//emai...  <!DOCTYPE HTML PUBLIC \"-//W3C//DTD HTML 4.0 Tr...  \n",
       "D://myPython//my_numpy//Course-DataSciene//emai...  1) Fight The Risk of Cancer!\\n\\nhttp://www.adc...  \n",
       "D://myPython//my_numpy//Course-DataSciene//emai...  1) Fight The Risk of Cancer!\\n\\nhttp://www.adc...  \n",
       "D://myPython//my_numpy//Course-DataSciene//emai...  ##############################################...  \n",
       "D://myPython//my_numpy//Course-DataSciene//emai...  I thought you might like these:\\n\\n1) Slim Dow...  \n",
       "D://myPython//my_numpy//Course-DataSciene//emai...  A POWERHOUSE GIFTING PROGRAM You Don't Want To...  \n",
       "D://myPython//my_numpy//Course-DataSciene//emai...  Help wanted.  We are a 14 year old fortune 500...  \n",
       "D://myPython//my_numpy//Course-DataSciene//emai...  <html>\\n\\n<head>\\n\\n<title>ReliaQuote - Save U...  \n",
       "D://myPython//my_numpy//Course-DataSciene//emai...  TIRED OF THE BULL OUT THERE?\\n\\nWant To Stop L...  \n",
       "D://myPython//my_numpy//Course-DataSciene//emai...  Dear ricardo1 ,\\n\\n\\n\\n<html>\\n\\n<body>\\n\\n<ce...  \n",
       "D://myPython//my_numpy//Course-DataSciene//emai...  Cellular Phone Accessories All At Below Wholes...  \n",
       "D://myPython//my_numpy//Course-DataSciene//emai...  <table width=\"600\" border=\"20\" align=\"center\" ...  \n",
       "D://myPython//my_numpy//Course-DataSciene//emai...  1) Fight The Risk of Cancer!\\n\\nhttp://www.adc...  \n",
       "D://myPython//my_numpy//Course-DataSciene//emai...  <HTML><HEAD><TITLE>FREE Motorola Cell Phone wi...  \n",
       "D://myPython//my_numpy//Course-DataSciene//emai...  <HTML><HEAD><TITLE>Lowest Rate Services</TITLE...  \n",
       "D://myPython//my_numpy//Course-DataSciene//emai...  \\n\\n\\n\\nWant to watch Sporting Events?--Movies...  \n",
       "D://myPython//my_numpy//Course-DataSciene//emai...  Help wanted.  We are a 14 year old fortune 500...  \n",
       "D://myPython//my_numpy//Course-DataSciene//emai...  DEAR FRIEND,I AM MRS.  SESE-SEKO WIDOW OF LATE...  \n",
       "D://myPython//my_numpy//Course-DataSciene//emai...  Lowest rates available for term life insurance...  \n",
       "D://myPython//my_numpy//Course-DataSciene//emai...  1) Fight The Risk of Cancer!\\n\\nhttp://www.adc...  \n",
       "D://myPython//my_numpy//Course-DataSciene//emai...  CENTRAL BANK OF NIGERIA\\n\\nFOREIGN REMITTANCE ...  \n",
       "D://myPython//my_numpy//Course-DataSciene//emai...  --===_SecAtt_000_1fheucnqggtggp\\n\\nContent-Typ...  \n",
       "D://myPython//my_numpy//Course-DataSciene//emai...  ------=_NextPart_000_00B2_83B03D1E.C6530E24\\n\\...  \n",
       "D://myPython//my_numpy//Course-DataSciene//emai...  This is a multi-part message in MIME format.\\n...  \n",
       "D://myPython//my_numpy//Course-DataSciene//emai...  <HTML><HEAD>\\n\\n<META http-equiv=3DContent-Typ...  \n",
       "D://myPython//my_numpy//Course-DataSciene//emai...  DEAR FRIEND,I AM MRS.  SESE-SEKO WIDOW OF LATE...  \n",
       "D://myPython//my_numpy//Course-DataSciene//emai...  1) Fight The Risk of Cancer!\\n\\nhttp://www.adc...  \n",
       "D://myPython//my_numpy//Course-DataSciene//emai...  <HTML><HEAD><TITLE>MILFhunter</TITLE>\\n\\n<META...  \n",
       "D://myPython//my_numpy//Course-DataSciene//emai...  <html>\\n\\n<head>\\n\\n</head>\\n\\n<body>\\n\\n\\n\\n<...  \n",
       "D://myPython//my_numpy//Course-DataSciene//emai...  <html>\\n\\n\\n\\n<head>\\n\\n<meta http-equiv=3D\"Co...  \n",
       "...                                                                                               ...  \n",
       "D://myPython//my_numpy//Course-DataSciene//emai...  This is possible, however using SA as a block ...  \n",
       "D://myPython//my_numpy//Course-DataSciene//emai...  \\n\\n--- Martin Adamson <martin@srv0.ems.ed.ac....  \n",
       "D://myPython//my_numpy//Course-DataSciene//emai...  ----- Original Message -----\\n\\nFrom: \"Tim Cha...  \n",
       "D://myPython//my_numpy//Course-DataSciene//emai...  \\n\\n> Mr Tim Chapman, freelance gentleman of l...  \n",
       "D://myPython//my_numpy//Course-DataSciene//emai...  Smith, Graham - Computing Technician wrote:\\n\\...  \n",
       "D://myPython//my_numpy//Course-DataSciene//emai...  Geege wrote a strange story:\\n\\n>I know a guy ...  \n",
       "D://myPython//my_numpy//Course-DataSciene//emai...  \\n\\n[Paul Moore]\\n\\n>    but let's walk before...  \n",
       "D://myPython//my_numpy//Course-DataSciene//emai...  On Mon, Nov 25, 2002 at 06:54:49PM +0000, Phil...  \n",
       "D://myPython//my_numpy//Course-DataSciene//emai...  \\n\\nI don't know how one can expect better and...  \n",
       "D://myPython//my_numpy//Course-DataSciene//emai...  No, you need to learn how declarations work in...  \n",
       "D://myPython//my_numpy//Course-DataSciene//emai...  \\n\\n    Richie> As I understand it, post-1.8x ...  \n",
       "D://myPython//my_numpy//Course-DataSciene//emai...  \\n\\n    Paul> I suspect the best answer is to ...  \n",
       "D://myPython//my_numpy//Course-DataSciene//emai...  The Times\\n\\n\\n\\n \\n\\n December 04, 2002 \\n\\n ...  \n",
       "D://myPython//my_numpy//Course-DataSciene//emai...  I have to say I was surprised about Jacko dang...  \n",
       "D://myPython//my_numpy//Course-DataSciene//emai...  Now then I recently read a novel about exactly...  \n",
       "D://myPython//my_numpy//Course-DataSciene//emai...  What the hell is it with these mini remote con...  \n",
       "D://myPython//my_numpy//Course-DataSciene//emai...  here, for your enjoyment, is a little somethin...  \n",
       "D://myPython//my_numpy//Course-DataSciene//emai...  Sean O'Donnell wrote:\\n\\n> Doesnt answer your ...  \n",
       "D://myPython//my_numpy//Course-DataSciene//emai...  Joe McNally writes:\\n\\n\\n\\n> What the hell is ...  \n",
       "D://myPython//my_numpy//Course-DataSciene//emai...  http://news.bbc.co.uk/1/hi/world/europe/254182...  \n",
       "D://myPython//my_numpy//Course-DataSciene//emai...  Hi all.\\n\\nDoes anyone know how to set up dual...  \n",
       "D://myPython//my_numpy//Course-DataSciene//emai...  Carlos Luna wrote:\\n\\n\\n\\n>Hi all.\\n\\n>Does an...  \n",
       "D://myPython//my_numpy//Course-DataSciene//emai...  Hi all\\n\\n\\n\\n\\n\\nI have a prob when trying to...  \n",
       "D://myPython//my_numpy//Course-DataSciene//emai...  Tim Chapman writes:\\n\\n\\n\\n> http://news.bbc.c...  \n",
       "D://myPython//my_numpy//Course-DataSciene//emai...  > I had the same problem when installing Win o...  \n",
       "D://myPython//my_numpy//Course-DataSciene//emai...  Man killed 'trying to surf' on Tube train \\n\\n...  \n",
       "D://myPython//my_numpy//Course-DataSciene//emai...  Hi Gianni,\\n\\n\\n\\nA very good resource for thi...  \n",
       "D://myPython//my_numpy//Course-DataSciene//emai...  Gianni Ponzi wrote:\\n\\n> I have a prob when tr...  \n",
       "D://myPython//my_numpy//Course-DataSciene//emai...  Neale Pickett <neale@woozle.org> writes:\\n\\n\\n...  \n",
       "D://myPython//my_numpy//Course-DataSciene//emai...  \\n\\nHi,\\n\\n\\n\\nI think you need to give us a l...  \n",
       "\n",
       "[3000 rows x 2 columns]"
      ]
     },
     "execution_count": 7,
     "metadata": {},
     "output_type": "execute_result"
    }
   ],
   "source": [
    "data"
   ]
  },
  {
   "cell_type": "code",
   "execution_count": 8,
   "metadata": {},
   "outputs": [
    {
     "data": {
      "text/plain": [
       "pandas.core.frame.DataFrame"
      ]
     },
     "execution_count": 8,
     "metadata": {},
     "output_type": "execute_result"
    }
   ],
   "source": [
    "type(data)"
   ]
  },
  {
   "cell_type": "code",
   "execution_count": 9,
   "metadata": {},
   "outputs": [
    {
     "data": {
      "text/plain": [
       "pandas.core.series.Series"
      ]
     },
     "execution_count": 9,
     "metadata": {},
     "output_type": "execute_result"
    }
   ],
   "source": [
    "type(data['class'])"
   ]
  },
  {
   "cell_type": "code",
   "execution_count": 10,
   "metadata": {},
   "outputs": [
    {
     "data": {
      "text/plain": [
       "array(['spam', 'spam', 'spam', ..., 'ham', 'ham', 'ham'], dtype=object)"
      ]
     },
     "execution_count": 10,
     "metadata": {},
     "output_type": "execute_result"
    }
   ],
   "source": [
    "data['class'].values"
   ]
  },
  {
   "cell_type": "code",
   "execution_count": 11,
   "metadata": {},
   "outputs": [
    {
     "data": {
      "text/plain": [
       "numpy.ndarray"
      ]
     },
     "execution_count": 11,
     "metadata": {},
     "output_type": "execute_result"
    }
   ],
   "source": [
    "type(data['class'].values)"
   ]
  },
  {
   "cell_type": "code",
   "execution_count": 12,
   "metadata": {},
   "outputs": [
    {
     "data": {
      "text/plain": [
       "3000"
      ]
     },
     "execution_count": 12,
     "metadata": {},
     "output_type": "execute_result"
    }
   ],
   "source": [
    "data['class'].values.size"
   ]
  },
  {
   "cell_type": "markdown",
   "metadata": {},
   "source": [
    "data.iloc[$\\lt$ row selection $\\gt$,$\\lt$ column selection $\\gt$]\n",
    "\n",
    "\n",
    "Rows:\n",
    "\n",
    "data.iloc[0] # first row of data frame-Note a Series data type output.\n",
    "\n",
    "data.iloc[1] # second row of data frame. \n",
    "\n",
    "data.iloc[-1] # last row of data frame.\n",
    "\n",
    "\n",
    "Columns:\n",
    "\n",
    "data.iloc[:,0] # first column of data frame\n",
    "\n",
    "data.iloc[:,1] # second column of data frame\n",
    "\n",
    "data.iloc[:,-1] # last column of data frame"
   ]
  },
  {
   "cell_type": "code",
   "execution_count": 13,
   "metadata": {},
   "outputs": [
    {
     "data": {
      "text/plain": [
       "'spam'"
      ]
     },
     "execution_count": 13,
     "metadata": {},
     "output_type": "execute_result"
    }
   ],
   "source": [
    "data.iloc[3][0]"
   ]
  },
  {
   "cell_type": "code",
   "execution_count": 14,
   "metadata": {},
   "outputs": [
    {
     "data": {
      "text/plain": [
       "str"
      ]
     },
     "execution_count": 14,
     "metadata": {},
     "output_type": "execute_result"
    }
   ],
   "source": [
    "type(data.iloc[3][0])"
   ]
  },
  {
   "cell_type": "code",
   "execution_count": 15,
   "metadata": {},
   "outputs": [],
   "source": [
    "X = data['message'].values\n",
    "y = data['class'].values"
   ]
  },
  {
   "cell_type": "code",
   "execution_count": 16,
   "metadata": {},
   "outputs": [
    {
     "data": {
      "text/plain": [
       "numpy.ndarray"
      ]
     },
     "execution_count": 16,
     "metadata": {},
     "output_type": "execute_result"
    }
   ],
   "source": [
    "type(X)"
   ]
  },
  {
   "cell_type": "code",
   "execution_count": 17,
   "metadata": {},
   "outputs": [
    {
     "data": {
      "text/plain": [
       "numpy.ndarray"
      ]
     },
     "execution_count": 17,
     "metadata": {},
     "output_type": "execute_result"
    }
   ],
   "source": [
    "type(y)"
   ]
  },
  {
   "cell_type": "code",
   "execution_count": 18,
   "metadata": {},
   "outputs": [
    {
     "data": {
      "text/plain": [
       "MultinomialNB(alpha=1.0, class_prior=None, fit_prior=True)"
      ]
     },
     "execution_count": 18,
     "metadata": {},
     "output_type": "execute_result"
    }
   ],
   "source": [
    "vectorizer = CountVectorizer()\n",
    "counts = vectorizer.fit_transform(X)\n",
    "nb = MultinomialNB()\n",
    "targets = y\n",
    "nb.fit(counts, targets)"
   ]
  },
  {
   "cell_type": "code",
   "execution_count": 19,
   "metadata": {},
   "outputs": [
    {
     "data": {
      "text/plain": [
       "array(['spam', 'ham'], dtype='<U4')"
      ]
     },
     "execution_count": 19,
     "metadata": {},
     "output_type": "execute_result"
    }
   ],
   "source": [
    "examples = ['Free Viagra now!!!', \"Hi Bob, how about a game of golf tomorrow?\"]\n",
    "example_counts = vectorizer.transform(examples)\n",
    "predictions = nb.predict(example_counts)\n",
    "predictions"
   ]
  },
  {
   "cell_type": "code",
   "execution_count": null,
   "metadata": {},
   "outputs": [],
   "source": []
  }
 ],
 "metadata": {
  "kernelspec": {
   "display_name": "Python 3",
   "language": "python",
   "name": "python3"
  },
  "language_info": {
   "codemirror_mode": {
    "name": "ipython",
    "version": 3
   },
   "file_extension": ".py",
   "mimetype": "text/x-python",
   "name": "python",
   "nbconvert_exporter": "python",
   "pygments_lexer": "ipython3",
   "version": "3.6.5"
  }
 },
 "nbformat": 4,
 "nbformat_minor": 2
}
