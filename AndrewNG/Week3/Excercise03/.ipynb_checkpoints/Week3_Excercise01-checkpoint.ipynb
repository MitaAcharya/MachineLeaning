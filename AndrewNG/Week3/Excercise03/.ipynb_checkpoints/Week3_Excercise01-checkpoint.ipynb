{
 "cells": [
  {
   "cell_type": "code",
   "execution_count": 2,
   "metadata": {},
   "outputs": [],
   "source": [
    "import pandas as pd\n",
    "import numpy as np\n",
    "import matplotlib.pyplot as plt\n",
    "import scipy.optimize as opt\n",
    "from sklearn import preprocessing\n",
    "pd.set_option('display.max_rows', 500) \n",
    "pd.set_option('display.max_rows', 500)"
   ]
  },
  {
   "cell_type": "code",
   "execution_count": null,
   "metadata": {},
   "outputs": [],
   "source": [
    "def read_data_file(filemame):\n",
    "    df = pd.read_csv(filemame, header=None)\n",
    "    df.columns = [\"Exam1Score\", \"Exam2Score\", \"AdmitORNot\"]\n",
    "    df2 = df.copy(deep=True)\n",
    "    return df\n",
    "\n",
    "def segregate_x_y(df):\n",
    "    df_x = df[[\"Exam1Score\", \"Exam2Score\"]]  # single [] gives error in this case\n",
    "    df_y = df[[\"AdmitORNot\"]]  # if i put single [] then it return series and [[]] return dataframe\n",
    "    return df_x, df_y\n",
    "\n",
    "def segregate_x_into_pass_fail(df_x, df_y):\n",
    "    mask_pass = df_y[\"AdmitORNot\"] == 1\n",
    "    df_x_pass = df_x[mask_pass]\n",
    "    df_x_fail = df_x[~mask_pass]\n",
    "    return df_x_pass, df_x_fail\n",
    "\n",
    "def plot_pass_fail(df_x_pass, df_x_fail):\n",
    "    plt.scatter(df_x_pass[\"Exam1Score\"], df_x_pass[\"Exam2Score\"], marker=\"o\", color=\"green\", label=\"Admitted\")\n",
    "    plt.scatter(df_x_fail[\"Exam1Score\"], df_x_fail[\"Exam2Score\"], marker=\"o\", color=\"red\", label=\"Not Admitted\")\n",
    "    plt.xlabel(\"Exam1 Score\")\n",
    "    plt.ylabel(\"Exam2 Score\")\n",
    "    plt.legend(loc=\"best\")\n",
    "    return plt\n",
    "\n",
    "def fit_x(df_x, df_y):\n",
    "    x = np.c_[np.ones(df_x.shape[0]), df_x] # this will change you data frame to numpy array\n",
    "    theta = np.zeros((x.shape[1], 1))\n",
    "    y = df_y.to_numpy()                     # here are are manually using function to convert dataframe to numpy array\n",
    "    return x, y, theta\n",
    "\n",
    "def z(x, theta):\n",
    "    return np.dot(x, theta)\n",
    "\n",
    "def sigmoid(Z):\n",
    "    return 1 / (1 + np.exp(-Z))  # note outer brackets in denominator are important else it bad/wrong result.\n",
    "\n",
    "def cost_function(theta, x, y):\n",
    "    m = x.shape[0]\n",
    "    h = sigmoid(z(x, theta))\n",
    "    j = (1 / m) * (np.dot(np.log(h).T, -y) - np.dot(np.log(1 - h).T, (1 - y)))\n",
    "    return j\n",
    "\n",
    "def first_deri_j(theta, x, y):\n",
    "    m = x.shape[0]\n",
    "    h = sigmoid(z(x, theta))\n",
    "    calculation = (1 / m) * (np.dot((h - y).T, x))\n",
    "    return calculation.T\n",
    "\n",
    "def get_best_theta_using_scipy_lib(cost_func_name, theta, first_deri_of_cost_func, x, y):\n",
    "    temp = opt.fmin_tnc(func=cost_func_name,\n",
    "                        x0=theta.flatten(),\n",
    "                        fprime=first_deri_of_cost_func,\n",
    "                        args=(x, y.flatten()))\n",
    "    return temp\n",
    "\n",
    "def accuracy(predicted_y, df_y):\n",
    "    diff = predicted_y - df_y\n",
    "    return (float(np.count_nonzero(diff)) / len(diff))"
   ]
  }
 ],
 "metadata": {
  "kernelspec": {
   "display_name": "Python 3",
   "language": "python",
   "name": "python3"
  },
  "language_info": {
   "codemirror_mode": {
    "name": "ipython",
    "version": 3
   },
   "file_extension": ".py",
   "mimetype": "text/x-python",
   "name": "python",
   "nbconvert_exporter": "python",
   "pygments_lexer": "ipython3",
   "version": "3.6.5"
  }
 },
 "nbformat": 4,
 "nbformat_minor": 2
}
