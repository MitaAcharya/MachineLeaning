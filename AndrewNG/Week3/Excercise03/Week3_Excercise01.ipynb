{
 "cells": [
  {
   "cell_type": "code",
   "execution_count": 1,
   "metadata": {},
   "outputs": [],
   "source": [
    "import pandas as pd\n",
    "import numpy as np\n",
    "import matplotlib.pyplot as plt\n",
    "import scipy.optimize as opt"
   ]
  },
  {
   "cell_type": "code",
   "execution_count": 2,
   "metadata": {},
   "outputs": [],
   "source": [
    "def read_data_file(filemame):\n",
    "    df = pd.read_csv(filemame, header=None)\n",
    "    df.columns = [\"Exam1Score\", \"Exam2Score\", \"AdmitORNot\"]\n",
    "    return df\n",
    "\n",
    "def segregate_x_y(df):\n",
    "    df_x = df[[\"Exam1Score\", \"Exam2Score\"]]  # single [] gives error in this case\n",
    "    df_y = df[[\"AdmitORNot\"]]  # if i put single [] then it return series and [[]] return dataframe\n",
    "    return df_x, df_y\n",
    "\n",
    "def segregate_x_into_pass_fail(df_x, df_y):\n",
    "    mask_pass = df_y[\"AdmitORNot\"] == 1\n",
    "    df_x_pass = df_x[mask_pass]\n",
    "    df_x_fail = df_x[~mask_pass]\n",
    "    return df_x_pass, df_x_fail\n",
    "\n",
    "def plot_pass_fail(df_x_pass, df_x_fail):\n",
    "    plt.scatter(df_x_pass[\"Exam1Score\"], df_x_pass[\"Exam2Score\"], marker=\"o\", color=\"green\", label=\"Admitted\")\n",
    "    plt.scatter(df_x_fail[\"Exam1Score\"], df_x_fail[\"Exam2Score\"], marker=\"o\", color=\"red\", label=\"Not Admitted\")\n",
    "    plt.xlabel(\"Exam1 Score\")\n",
    "    plt.ylabel(\"Exam2 Score\")\n",
    "    plt.legend(loc=\"best\")\n",
    "    return plt\n",
    "\n",
    "def fit_x(df_x, df_y):\n",
    "    x = np.c_[np.ones(df_x.shape[0]), df_x] # this will change you data frame to numpy array\n",
    "    theta = np.zeros((x.shape[1], 1))\n",
    "    y = df_y.to_numpy()                     # here are are manually using function to convert dataframe to numpy array\n",
    "    return x, y, theta\n",
    "\n",
    "def z(x, theta):\n",
    "    return np.dot(x, theta)\n",
    "\n",
    "def sigmoid(Z):\n",
    "    return 1 / (1 + np.exp(-Z))  # note outer brackets in denominator are important else it bad/wrong result.\n",
    "\n",
    "def cost_function(theta, x, y):\n",
    "    m = x.shape[0]\n",
    "    h = sigmoid(z(x, theta))\n",
    "    j = (1 / m) * (np.dot(np.log(h).T, -y) - np.dot(np.log(1 - h).T, (1 - y)))\n",
    "    return j\n",
    "\n",
    "def first_deri_j(theta, x, y):\n",
    "    m = x.shape[0]\n",
    "    h = sigmoid(z(x, theta))\n",
    "    calculation = (1 / m) * (np.dot((h - y).T, x))\n",
    "    return calculation.T\n",
    "\n",
    "def get_best_theta_using_scipy_lib(cost_func_name, theta, first_deri_of_cost_func, x, y):\n",
    "    temp = opt.fmin_tnc(func=cost_func_name,\n",
    "                        x0=theta.flatten(),\n",
    "                        fprime=first_deri_of_cost_func,\n",
    "                        args=(x, y.flatten()))\n",
    "    return temp"
   ]
  },
  {
   "cell_type": "code",
   "execution_count": 4,
   "metadata": {},
   "outputs": [
    {
     "name": "stdout",
     "output_type": "stream",
     "text": [
      "initial_cost using  zero as intial theta= [[0.69314718]]\n",
      "Auto Optimized theta =  [[-25.16131854]\n",
      " [  0.20623159]\n",
      " [  0.20147149]]\n",
      "final_cost using  optimized theta= [[0.2034977]]\n"
     ]
    },
    {
     "data": {
      "image/png": "[encoded data removed]",
      "text/plain": [
       "<Figure size 432x288 with 1 Axes>"
      ]
     },
     "metadata": {},
     "output_type": "display_data"
    }
   ],
   "source": [
    "df = read_data_file(\"ex2data1.txt\")\n",
    "df_x, df_y = segregate_x_y(df)\n",
    "df_x_pass, df_x_fail = segregate_x_into_pass_fail(df_x, df_y)\n",
    "plt = plot_pass_fail(df_x_pass, df_x_fail)\n",
    "x, y, theta = fit_x(df_x, df_y)\n",
    "initial_cost = cost_function(theta, x, y)\n",
    "print(\"initial_cost using  zero as intial theta=\", initial_cost)\n",
    "theta_optimized = get_best_theta_using_scipy_lib(cost_function, theta, first_deri_j, x, y)\n",
    "theta = np.array([theta_optimized[0][0],theta_optimized[0][1],theta_optimized[0][2]]).reshape(3,1)\n",
    "print(\"Auto Optimized theta = \",theta )\n",
    "print(\"final_cost using  optimized theta=\", cost_function(theta, x, y))"
   ]
  },
  {
   "cell_type": "code",
   "execution_count": null,
   "metadata": {},
   "outputs": [],
   "source": []
  }
 ],
 "metadata": {
  "kernelspec": {
   "display_name": "Python 3",
   "language": "python",
   "name": "python3"
  },
  "language_info": {
   "codemirror_mode": {
    "name": "ipython",
    "version": 3
   },
   "file_extension": ".py",
   "mimetype": "text/x-python",
   "name": "python",
   "nbconvert_exporter": "python",
   "pygments_lexer": "ipython3",
   "version": "3.6.5"
  }
 },
 "nbformat": 4,
 "nbformat_minor": 2
}
