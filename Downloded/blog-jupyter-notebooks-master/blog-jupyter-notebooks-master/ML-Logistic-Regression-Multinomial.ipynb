{
 "cells": [
  {
   "cell_type": "markdown",
   "metadata": {},
   "source": [
    "## Logistic Regression: Multi-Class (Multinomial) -- Full MNIST digits classification example\n",
    "\n",
    "This post will be an implementation and example of what is commonly called [\"Multinomial Logistic Regression\"](https://en.wikipedia.org/wiki/Multinomial_logistic_regression). The particular method I will look at is \"one-vs-all\" or \"one-vs-rest\".\n",
    "\n",
    "> **<rant-on>** **What's in a name?** \"*A rose by any other name would smell as sweet*\". In my opinion calling this \"Multinomial Logistic Regression\" stinks! A multinomial is a specific mathematical thing and I already used \"multinomial term expansion of feature sets\". I really feel that a more descriptive name would be \"Multi-Class\". ... but Multinomial Logistic Regression is the name that is commonly used.**<rant-off>**  \n",
    "\n",
    "This post is heavy on Python code and job runs. It includes the implementation code from the [previous post](https://www.pugetsystems.com/labs/hpc/Machine-Learning-and-Data-Science-Logistic-Regression-Examples-1-1003/) with additional code to generalize that to multi-class. The usage example will be image classification of hand written digits (0-9) using the MNIST dataset. \n",
    "\n",
    "I've done four earlier posts on Logistic Regression that give a pretty thorough explanation of Logistic Regress and cover theory and insight for what I'm looking at in this post, [Logistic Regression Theory](https://www.pugetsystems.com/labs/hpc/Machine-Learning-and-Data-Science-Logistic-Regression-Theory-988/) and [Logistic and Linear Regression Regularization](https://www.pugetsystems.com/labs/hpc/Machine-Learning-and-Data-Science-Logistic-and-Linear-Regression-Regularization-994/), [Logistic Regression Implementation](https://www.pugetsystems.com/labs/hpc/Machine-Learning-and-Data-Science-Logistic-Regression-Implementation-996/), [Logistic Regression: Examples 1 -- 2D data fit with multinomial model and 0 1 digits classification on MNIST dataset](https://www.pugetsystems.com/labs/hpc/Machine-Learning-and-Data-Science-Logistic-Regression-Examples-1-1003/).\n",
    "\n",
    "This will be a \"calculator\" style implementation using Python in this Jupyter notebook. Everything needed to \"tinker\" with the method is contained in this notebook except the MNIST dataset. I pulled the [MNIST training set from **Kaggle**](https://www.kaggle.com/c/digit-recognizer/data). For information on the dataset itself see [Yann Lecun's site http://yann.lecun.com/exdb/mnist/index.html](http://yann.lecun.com/exdb/mnist/index.html). To use this notebook for your own experimentation you would need to download that dataset. \n",
    "\n",
    ">This posts along with all of the others in this series were converted to html from Jupyter notebooks. The notebooks are available at [https://github.com/dbkinghorn/blog-jupyter-notebooks](https://github.com/dbkinghorn/blog-jupyter-notebooks)\n",
    "<hr />\n"
   ]
  },
  {
   "cell_type": "markdown",
   "metadata": {},
   "source": [
    "## Understanding Multi-Class (Multinomial) Logistic Regression\n",
    "\n",
    "You can think of logistic regression as if the logistic (sigmoid) function is a single \"neuron\" that returns the probability that some input sample is the \"thing\" that the neuron was trained to recognize. It is a binary classifier. It just gives the probability that the input it is looking at is the **ONE thing** that it was trained to recognize. To generalize this to several \"things\" (classes) we can create a collection of these binary \"neurons\" with one for each class of the things the we want to distinguish. You could think of that as a single layer network of these sigmoid neurons. \n",
    "\n",
    "To classify the 10 digits 0-9 there would be 10 of these sigmoid neurons in a single layer network. Like this,\n",
    "\n",
    "![fig1](./logistic-net09-tikz.png)\n",
    "\n",
    "The $f_i$ are the features i.e. pixels in an image, $h_i$ are the 10 individual digit models and MAX(P) is the result with the highest probability.\n",
    "\n",
    "That is basically what we are going to do. In general the steps are,\n",
    "\n",
    "- Create a 0,1 vector $y_k$ for each class $k$. Each $y_k$ will have a 1 matching the position of all samples in the training set that match that class and 0 otherwise. (I will put them in a matrix $Y$ where the $k^{th}$ column of $Y$ is $y_k$)\n",
    "- Do an optimization loop over all $k$ classes finding an optimal parameter vector $a_k$ to define $k$ models $h_k$\n",
    "- To test i.e. classify, an input evaluate it with each $h_k$ to get a probability that it is in class $k$.\n",
    "- Pick the class with the highest probability as the \"answer\".\n",
    "\n",
    "Specifically for the MNIST digits dataset being used; \n",
    "- There will be $k=10$ classes with labels {0,1,2,3,4,5,6,7,8,9}.\n",
    "    - For a set with $m$ samples $Y_{set}$ will be an $(m \\times 10)$ matrix of 0's and 1's corresponding to samples in each class. For example the first column of $Y$ will have a 1 in each row that is a sample image of a \"0\". ... The tenth column of $Y$ will have a 1 in each row that is a sample of a \"9\".        \n",
    "- The full data set has 42000 samples which will be divided into \n",
    "   - 29400 training-set samples,\n",
    "   - 6300 validation-set samples,\n",
    "   - 6300 test-set samples. \n",
    "- The digit images in the MNIST dataset have 28 x 28 pixels. These pixels together with the bias term is the number of features. That means that each sample feature vector will have 784 + 1 = 785 features that we will need to find 785 parameters for.        \n",
    "- The optimization loop will be over the 10 classes and will produce a matrix $A$ of optimized parameters by minimizing a cost function for each for the 10 classes. Each column of the 10 columns $A$ will be a model parameter vector corresponding to each of the 10 classes (0-9).\n",
    "- To test or use the resulting model the input sample will be evaluated for each of the 10 \"class models\" and sorted by highest probability. The result with the highest probability is the prediction from the model.\n",
    "\n",
    "Simple! Lets do it.\n",
    "<hr />\n"
   ]
  },
  {
   "cell_type": "markdown",
   "metadata": {},
   "source": [
    "## Core Logistic Regression Functions (Python Code)\n",
    "This section is the base code for, logistic regression with regularization, that was worked up in the previous posts. You can skip over this section if you have seen the code in the last post and just refer back to it if you need to see how some function was defined.\n"
   ]
  },
  {
   "cell_type": "code",
   "execution_count": 1,
   "metadata": {
    "collapsed": true
   },
   "outputs": [],
   "source": [
    "import pandas as pd  # data handeling\n",
    "import numpy as np   # numerical computing\n",
    "from scipy.optimize import minimize  # optimization code\n",
    "import matplotlib.pyplot as plt  # plotting\n",
    "import seaborn as sns  \n",
    "%matplotlib inline\n",
    "sns.set()\n",
    "import itertools  # combinatorics functions for multinomial code"
   ]
  },
  {
   "cell_type": "code",
   "execution_count": 2,
   "metadata": {
    "collapsed": true
   },
   "outputs": [],
   "source": [
    "#\n",
    "# Main Logistic Regression Equations\n",
    "#\n",
    "def g(z) :  # sigmoid function\n",
    "    return 1.0/(1.0 + np.exp(-z))\n",
    "\n",
    "def h_logistic(X,a) : # Model function\n",
    "    return g(np.dot(X,a))\n",
    "\n",
    "def J(X,a,y) : # Cost Function \n",
    "    m = y.size\n",
    "    return -(np.sum(np.log(h_logistic(X,a))) + np.dot((y-1).T,(np.dot(X,a))))/m\n",
    "\n",
    "def J_reg(X,a,y,reg_lambda) : # Cost Function with Regularization\n",
    "    m = y.size\n",
    "    return J(X,a,y) + reg_lambda/(2.0*m) * np.dot(a[1:],a[1:])\n",
    "\n",
    "def gradJ(X,a,y) : # Gradient of Cost Function\n",
    "    m = y.size\n",
    "    return (np.dot(X.T,(h_logistic(X,a) - y)))/m\n",
    "\n",
    "def gradJ_reg(X,a,y,reg_lambda) : # Gradient of Cost Function with Regularization\n",
    "    m = y.size\n",
    "    return gradJ(X,a,y) + reg_lambda/(2.0*m) * np.concatenate(([0], a[1:])).T"
   ]
  },
  {
   "cell_type": "code",
   "execution_count": 3,
   "metadata": {
    "collapsed": true
   },
   "outputs": [],
   "source": [
    "#\n",
    "# Some model checking functions\n",
    "#\n",
    "def to_0_1(h_prob) : # convert probabilites to true (1) or false (0) at cut-off 0.5\n",
    "    return np.where(h_prob >= 0.5, 1, 0)\n",
    "\n",
    "def model_accuracy(h,y) : # Overall accuracy of model\n",
    "    return np.sum(h==y)/y.size * 100 \n",
    "\n",
    "def model_accuracy_pos(h,y) : # Accuracy on positive cases\n",
    "    return np.sum(y[h==1] == 1)/y[y==1].size * 100\n",
    "    \n",
    "def model_accuracy_neg(h,y) : # Accuracy on negative cases\n",
    "    return np.sum(y[h==0] == 0)/y[y==0].size * 100\n",
    "    \n",
    "def false_pos(h,y) : # Number of false positives\n",
    "    return np.sum((y==0) & (h==1))\n",
    "\n",
    "def false_neg(h,y) : # Number of false negatives\n",
    "    return np.sum((y==1) & (h==0))\n",
    "\n",
    "def true_pos(h,y) : # Number of true positives\n",
    "    return np.sum((y==1) & (h==1))\n",
    "\n",
    "def true_neg(h,y) : # Number of true negatives\n",
    "    return np.sum((y==0) & (h==0))\n",
    "    \n",
    "def model_precision(h,y) : # Precision = TP/(TP+FP)\n",
    "    return true_pos(h,y)/(true_pos(h,y) + false_pos(h,y))\n",
    "\n",
    "def model_recall(h,y) : # Recall = TP/(TP+FN)\n",
    "    return true_pos(h,y)/(true_pos(h,y) + false_neg(h,y))\n",
    "\n",
    "def print_model_quality(title, h, y) : # Print the results of the functions above\n",
    "    print( '\\n# \\n# {} \\n#'.format(title) )\n",
    "    print( 'Total number of data points   = {}'.format(y.size))\n",
    "    print( 'Number of Positive values(1s) = {}'.format(y[y==1].size))\n",
    "    print( 'Number of Negative values(0s) = {}'.format(y[y==0].size))\n",
    "    print( '\\nNumber of True Positives = {}'.format(true_pos(h,y)) )\n",
    "    print( 'Number of False Positives = {}'.format(false_pos(h,y)) )\n",
    "    print( '\\nNumber of True Negatives = {}'.format(true_neg(h,y)) )\n",
    "    print( 'Number of False Negatives = {}'.format(false_neg(h,y)) )\n",
    "    print( '\\nModel Accuracy = {:.2f}%'.format( model_accuracy(h,y) ) )\n",
    "    print( 'Model Accuracy Positive Cases = {:.2f}%'.format( model_accuracy_pos(h,y) ) )\n",
    "    print( 'Model Accuracy Negative Cases = {:.2f}%'.format( model_accuracy_neg(h,y) ) )\n",
    "    print( '\\nModel Precision = {}'.format(model_precision(h,y)) )\n",
    "    print( '\\nModel Recall = {}'.format(model_recall(h,y)) )"
   ]
  },
  {
   "cell_type": "code",
   "execution_count": 4,
   "metadata": {
    "collapsed": true
   },
   "outputs": [],
   "source": [
    "def multinomial_partitions(n, k):\n",
    "    \"\"\"returns an array of length k sequences of integer partitions of n\"\"\"\n",
    "    nparts = itertools.combinations(range(1, n+k), k-1)\n",
    "    tmp = [(0,) + p + (n+k,) for p  in nparts]\n",
    "    sequences =  np.diff(tmp) - 1\n",
    "    return sequences[::-1] # reverse the order\n",
    "\n",
    "def make_multinomial_features(fvecs,order=[1,2]) :\n",
    "    '''Make multinomial feature matrix\n",
    "       fvecs is a matrix of feature vectors (columns)\n",
    "       \"order\" is a set of multinomial degrees to create \n",
    "       default is [1,2] meaning for example: given f1, f2 in fvecs\n",
    "       return a matrix made up of a [1's column, f1,f2,f1**2,f1*f2,f2**2]   '''\n",
    "    Xtmp = np.ones_like(fvecs[:,0])\n",
    "    for ord in order :\n",
    "        if ord==1 :\n",
    "            fstmp = fvecs\n",
    "        else :\n",
    "            pwrs = multinomial_partitions(ord,fvecs.shape[1])\n",
    "            fstmp = np.column_stack( ( np.prod(fvecs**pwrs[i,:], axis=1) for i in range(pwrs.shape[0]) ))\n",
    "\n",
    "        Xtmp = np.column_stack((Xtmp,fstmp))\n",
    "    return Xtmp\n",
    "\n",
    "def mean_normalize(X):\n",
    "    '''apply mean normalization to each column of the matrix X'''\n",
    "    X_mean=X.mean(axis=0)\n",
    "    X_std=X.std(axis=0)\n",
    "    return (X-X_mean)/X_std\n",
    "\n",
    "def apply_normalizer(X,X_mean,X_std) :\n",
    "    return (X-X_mean)/X_std"
   ]
  },
  {
   "cell_type": "markdown",
   "metadata": {},
   "source": [
    "<hr />\n",
    "## Data setup for the 10 digit classes\n",
    "\n",
    "The data is the same that was used in the last post but this time I will use all of the 0-9 images. There are 42000 total. Each image has 784 pixels and the first column is the label for what the image is. Let's read that in and look at the first 10 entries, then put that into a matrix called data_full_matrix. \n"
   ]
  },
  {
   "cell_type": "code",
   "execution_count": 5,
   "metadata": {},
   "outputs": [
    {
     "data": {
      "text/html": [
       "<div>\n",
       "<table border=\"1\" class=\"dataframe\">\n",
       "  <thead>\n",
       "    <tr style=\"text-align: right;\">\n",
       "      <th></th>\n",
       "      <th>label</th>\n",
       "      <th>pixel0</th>\n",
       "      <th>pixel1</th>\n",
       "      <th>pixel2</th>\n",
       "      <th>pixel3</th>\n",
       "      <th>pixel4</th>\n",
       "      <th>pixel5</th>\n",
       "      <th>pixel6</th>\n",
       "      <th>pixel7</th>\n",
       "      <th>pixel8</th>\n",
       "      <th>...</th>\n",
       "      <th>pixel774</th>\n",
       "      <th>pixel775</th>\n",
       "      <th>pixel776</th>\n",
       "      <th>pixel777</th>\n",
       "      <th>pixel778</th>\n",
       "      <th>pixel779</th>\n",
       "      <th>pixel780</th>\n",
       "      <th>pixel781</th>\n",
       "      <th>pixel782</th>\n",
       "      <th>pixel783</th>\n",
       "    </tr>\n",
       "  </thead>\n",
       "  <tbody>\n",
       "    <tr>\n",
       "      <th>0</th>\n",
       "      <td>1</td>\n",
       "      <td>0</td>\n",
       "      <td>0</td>\n",
       "      <td>0</td>\n",
       "      <td>0</td>\n",
       "      <td>0</td>\n",
       "      <td>0</td>\n",
       "      <td>0</td>\n",
       "      <td>0</td>\n",
       "      <td>0</td>\n",
       "      <td>...</td>\n",
       "      <td>0</td>\n",
       "      <td>0</td>\n",
       "      <td>0</td>\n",
       "      <td>0</td>\n",
       "      <td>0</td>\n",
       "      <td>0</td>\n",
       "      <td>0</td>\n",
       "      <td>0</td>\n",
       "      <td>0</td>\n",
       "      <td>0</td>\n",
       "    </tr>\n",
       "    <tr>\n",
       "      <th>1</th>\n",
       "      <td>0</td>\n",
       "      <td>0</td>\n",
       "      <td>0</td>\n",
       "      <td>0</td>\n",
       "      <td>0</td>\n",
       "      <td>0</td>\n",
       "      <td>0</td>\n",
       "      <td>0</td>\n",
       "      <td>0</td>\n",
       "      <td>0</td>\n",
       "      <td>...</td>\n",
       "      <td>0</td>\n",
       "      <td>0</td>\n",
       "      <td>0</td>\n",
       "      <td>0</td>\n",
       "      <td>0</td>\n",
       "      <td>0</td>\n",
       "      <td>0</td>\n",
       "      <td>0</td>\n",
       "      <td>0</td>\n",
       "      <td>0</td>\n",
       "    </tr>\n",
       "    <tr>\n",
       "      <th>2</th>\n",
       "      <td>1</td>\n",
       "      <td>0</td>\n",
       "      <td>0</td>\n",
       "      <td>0</td>\n",
       "      <td>0</td>\n",
       "      <td>0</td>\n",
       "      <td>0</td>\n",
       "      <td>0</td>\n",
       "      <td>0</td>\n",
       "      <td>0</td>\n",
       "      <td>...</td>\n",
       "      <td>0</td>\n",
       "      <td>0</td>\n",
       "      <td>0</td>\n",
       "      <td>0</td>\n",
       "      <td>0</td>\n",
       "      <td>0</td>\n",
       "      <td>0</td>\n",
       "      <td>0</td>\n",
       "      <td>0</td>\n",
       "      <td>0</td>\n",
       "    </tr>\n",
       "    <tr>\n",
       "      <th>3</th>\n",
       "      <td>4</td>\n",
       "      <td>0</td>\n",
       "      <td>0</td>\n",
       "      <td>0</td>\n",
       "      <td>0</td>\n",
       "      <td>0</td>\n",
       "      <td>0</td>\n",
       "      <td>0</td>\n",
       "      <td>0</td>\n",
       "      <td>0</td>\n",
       "      <td>...</td>\n",
       "      <td>0</td>\n",
       "      <td>0</td>\n",
       "      <td>0</td>\n",
       "      <td>0</td>\n",
       "      <td>0</td>\n",
       "      <td>0</td>\n",
       "      <td>0</td>\n",
       "      <td>0</td>\n",
       "      <td>0</td>\n",
       "      <td>0</td>\n",
       "    </tr>\n",
       "    <tr>\n",
       "      <th>4</th>\n",
       "      <td>0</td>\n",
       "      <td>0</td>\n",
       "      <td>0</td>\n",
       "      <td>0</td>\n",
       "      <td>0</td>\n",
       "      <td>0</td>\n",
       "      <td>0</td>\n",
       "      <td>0</td>\n",
       "      <td>0</td>\n",
       "      <td>0</td>\n",
       "      <td>...</td>\n",
       "      <td>0</td>\n",
       "      <td>0</td>\n",
       "      <td>0</td>\n",
       "      <td>0</td>\n",
       "      <td>0</td>\n",
       "      <td>0</td>\n",
       "      <td>0</td>\n",
       "      <td>0</td>\n",
       "      <td>0</td>\n",
       "      <td>0</td>\n",
       "    </tr>\n",
       "    <tr>\n",
       "      <th>5</th>\n",
       "      <td>0</td>\n",
       "      <td>0</td>\n",
       "      <td>0</td>\n",
       "      <td>0</td>\n",
       "      <td>0</td>\n",
       "      <td>0</td>\n",
       "      <td>0</td>\n",
       "      <td>0</td>\n",
       "      <td>0</td>\n",
       "      <td>0</td>\n",
       "      <td>...</td>\n",
       "      <td>0</td>\n",
       "      <td>0</td>\n",
       "      <td>0</td>\n",
       "      <td>0</td>\n",
       "      <td>0</td>\n",
       "      <td>0</td>\n",
       "      <td>0</td>\n",
       "      <td>0</td>\n",
       "      <td>0</td>\n",
       "      <td>0</td>\n",
       "    </tr>\n",
       "    <tr>\n",
       "      <th>6</th>\n",
       "      <td>7</td>\n",
       "      <td>0</td>\n",
       "      <td>0</td>\n",
       "      <td>0</td>\n",
       "      <td>0</td>\n",
       "      <td>0</td>\n",
       "      <td>0</td>\n",
       "      <td>0</td>\n",
       "      <td>0</td>\n",
       "      <td>0</td>\n",
       "      <td>...</td>\n",
       "      <td>0</td>\n",
       "      <td>0</td>\n",
       "      <td>0</td>\n",
       "      <td>0</td>\n",
       "      <td>0</td>\n",
       "      <td>0</td>\n",
       "      <td>0</td>\n",
       "      <td>0</td>\n",
       "      <td>0</td>\n",
       "      <td>0</td>\n",
       "    </tr>\n",
       "    <tr>\n",
       "      <th>7</th>\n",
       "      <td>3</td>\n",
       "      <td>0</td>\n",
       "      <td>0</td>\n",
       "      <td>0</td>\n",
       "      <td>0</td>\n",
       "      <td>0</td>\n",
       "      <td>0</td>\n",
       "      <td>0</td>\n",
       "      <td>0</td>\n",
       "      <td>0</td>\n",
       "      <td>...</td>\n",
       "      <td>0</td>\n",
       "      <td>0</td>\n",
       "      <td>0</td>\n",
       "      <td>0</td>\n",
       "      <td>0</td>\n",
       "      <td>0</td>\n",
       "      <td>0</td>\n",
       "      <td>0</td>\n",
       "      <td>0</td>\n",
       "      <td>0</td>\n",
       "    </tr>\n",
       "    <tr>\n",
       "      <th>8</th>\n",
       "      <td>5</td>\n",
       "      <td>0</td>\n",
       "      <td>0</td>\n",
       "      <td>0</td>\n",
       "      <td>0</td>\n",
       "      <td>0</td>\n",
       "      <td>0</td>\n",
       "      <td>0</td>\n",
       "      <td>0</td>\n",
       "      <td>0</td>\n",
       "      <td>...</td>\n",
       "      <td>0</td>\n",
       "      <td>0</td>\n",
       "      <td>0</td>\n",
       "      <td>0</td>\n",
       "      <td>0</td>\n",
       "      <td>0</td>\n",
       "      <td>0</td>\n",
       "      <td>0</td>\n",
       "      <td>0</td>\n",
       "      <td>0</td>\n",
       "    </tr>\n",
       "    <tr>\n",
       "      <th>9</th>\n",
       "      <td>3</td>\n",
       "      <td>0</td>\n",
       "      <td>0</td>\n",
       "      <td>0</td>\n",
       "      <td>0</td>\n",
       "      <td>0</td>\n",
       "      <td>0</td>\n",
       "      <td>0</td>\n",
       "      <td>0</td>\n",
       "      <td>0</td>\n",
       "      <td>...</td>\n",
       "      <td>0</td>\n",
       "      <td>0</td>\n",
       "      <td>0</td>\n",
       "      <td>0</td>\n",
       "      <td>0</td>\n",
       "      <td>0</td>\n",
       "      <td>0</td>\n",
       "      <td>0</td>\n",
       "      <td>0</td>\n",
       "      <td>0</td>\n",
       "    </tr>\n",
       "  </tbody>\n",
       "</table>\n",
       "<p>10 rows × 785 columns</p>\n",
       "</div>"
      ],
      "text/plain": [
       "   label  pixel0  pixel1  pixel2  pixel3  pixel4  pixel5  pixel6  pixel7  \\\n",
       "0      1       0       0       0       0       0       0       0       0   \n",
       "1      0       0       0       0       0       0       0       0       0   \n",
       "2      1       0       0       0       0       0       0       0       0   \n",
       "3      4       0       0       0       0       0       0       0       0   \n",
       "4      0       0       0       0       0       0       0       0       0   \n",
       "5      0       0       0       0       0       0       0       0       0   \n",
       "6      7       0       0       0       0       0       0       0       0   \n",
       "7      3       0       0       0       0       0       0       0       0   \n",
       "8      5       0       0       0       0       0       0       0       0   \n",
       "9      3       0       0       0       0       0       0       0       0   \n",
       "\n",
       "   pixel8    ...     pixel774  pixel775  pixel776  pixel777  pixel778  \\\n",
       "0       0    ...            0         0         0         0         0   \n",
       "1       0    ...            0         0         0         0         0   \n",
       "2       0    ...            0         0         0         0         0   \n",
       "3       0    ...            0         0         0         0         0   \n",
       "4       0    ...            0         0         0         0         0   \n",
       "5       0    ...            0         0         0         0         0   \n",
       "6       0    ...            0         0         0         0         0   \n",
       "7       0    ...            0         0         0         0         0   \n",
       "8       0    ...            0         0         0         0         0   \n",
       "9       0    ...            0         0         0         0         0   \n",
       "\n",
       "   pixel779  pixel780  pixel781  pixel782  pixel783  \n",
       "0         0         0         0         0         0  \n",
       "1         0         0         0         0         0  \n",
       "2         0         0         0         0         0  \n",
       "3         0         0         0         0         0  \n",
       "4         0         0         0         0         0  \n",
       "5         0         0         0         0         0  \n",
       "6         0         0         0         0         0  \n",
       "7         0         0         0         0         0  \n",
       "8         0         0         0         0         0  \n",
       "9         0         0         0         0         0  \n",
       "\n",
       "[10 rows x 785 columns]"
      ]
     },
     "execution_count": 5,
     "metadata": {},
     "output_type": "execute_result"
    }
   ],
   "source": [
    "data_full = pd.read_csv(\"./data/kg-mnist/train.csv\")\n",
    "data_full.head(10)"
   ]
  },
  {
   "cell_type": "code",
   "execution_count": 6,
   "metadata": {},
   "outputs": [
    {
     "name": "stdout",
     "output_type": "stream",
     "text": [
      "(42000, 785)\n"
     ]
    }
   ],
   "source": [
    "data_full_matrix=data_full.as_matrix()\n",
    "print(data_full_matrix.shape)"
   ]
  },
  {
   "cell_type": "markdown",
   "metadata": {},
   "source": [
    "You can show any of the images in that matrix with the following snipit of code. This would show the image in the 4th row (index 3) which is a hand written 4."
   ]
  },
  {
   "cell_type": "code",
   "execution_count": 21,
   "metadata": {},
   "outputs": [
    {
     "data": {
      "text/plain": [
       "<matplotlib.image.AxesImage at 0x7f0e66de98d0>"
      ]
     },
     "execution_count": 21,
     "metadata": {},
     "output_type": "execute_result"
    },
    {
     "data": {
      "image/png": "[encoded data removed]",
      "text/plain": [
       "<matplotlib.figure.Figure at 0x7f0e67930b70>"
      ]
     },
     "metadata": {},
     "output_type": "display_data"
    }
   ],
   "source": [
    "plt.figure(figsize=(1,1))\n",
    "plt.imshow(data_full_matrix[3,1:].reshape((28,28)) )"
   ]
  },
  {
   "cell_type": "markdown",
   "metadata": {},
   "source": [
    "<hr />\n",
    "### Create matrix $Y$\n",
    "There is a column in $Y$ for each of the digits 0-9. I print out the first 10 rows so you can see how it is laid out. The first column has a 1 at row 2,5 and 6 (1,4,5 is you count from 0), that means that those rows correspond to the number 0. There are 42000 rows in $Y$.\n"
   ]
  },
  {
   "cell_type": "code",
   "execution_count": 7,
   "metadata": {
    "collapsed": true
   },
   "outputs": [],
   "source": [
    "Y = np.zeros((data_full_matrix.shape[0],10))\n",
    "for i in range(10) :\n",
    "    Y[:,i] = np.where(data_full_matrix[:,0]==i, 1,0)"
   ]
  },
  {
   "cell_type": "code",
   "execution_count": 8,
   "metadata": {},
   "outputs": [
    {
     "data": {
      "text/plain": [
       "array([[ 0.,  1.,  0.,  0.,  0.,  0.,  0.,  0.,  0.,  0.],\n",
       "       [ 1.,  0.,  0.,  0.,  0.,  0.,  0.,  0.,  0.,  0.],\n",
       "       [ 0.,  1.,  0.,  0.,  0.,  0.,  0.,  0.,  0.,  0.],\n",
       "       [ 0.,  0.,  0.,  0.,  1.,  0.,  0.,  0.,  0.,  0.],\n",
       "       [ 1.,  0.,  0.,  0.,  0.,  0.,  0.,  0.,  0.,  0.],\n",
       "       [ 1.,  0.,  0.,  0.,  0.,  0.,  0.,  0.,  0.,  0.],\n",
       "       [ 0.,  0.,  0.,  0.,  0.,  0.,  0.,  1.,  0.,  0.],\n",
       "       [ 0.,  0.,  0.,  1.,  0.,  0.,  0.,  0.,  0.,  0.],\n",
       "       [ 0.,  0.,  0.,  0.,  0.,  1.,  0.,  0.,  0.,  0.],\n",
       "       [ 0.,  0.,  0.,  1.,  0.,  0.,  0.,  0.,  0.,  0.]])"
      ]
     },
     "execution_count": 8,
     "metadata": {},
     "output_type": "execute_result"
    }
   ],
   "source": [
    "Y[0:10,:]"
   ]
  },
  {
   "cell_type": "markdown",
   "metadata": {},
   "source": [
    "<hr />\n",
    "### Separate out the label column and remove columns that are all 0's\n",
    "We got rid of 76 feature columns that were all 0's"
   ]
  },
  {
   "cell_type": "code",
   "execution_count": 9,
   "metadata": {},
   "outputs": [
    {
     "name": "stdout",
     "output_type": "stream",
     "text": [
      "(42000, 784)\n",
      "(42000, 708)\n"
     ]
    }
   ],
   "source": [
    "y_labels, data_09 = data_full_matrix[:,0], data_full_matrix[:,1:]\n",
    "print(data_09.shape)\n",
    "data_09 = data_09[:,data_09.sum(axis=0)!=0]\n",
    "print(data_09.shape)"
   ]
  },
  {
   "cell_type": "markdown",
   "metadata": {},
   "source": [
    "<hr />\n",
    "### Divide the dataset into sets for Training, Validation and Testing \n",
    "There will be 29400 images in the Training set and 6300 images in each of the Validation and Test sets. The matrix $Y$ is divided up the same way."
   ]
  },
  {
   "cell_type": "code",
   "execution_count": 10,
   "metadata": {
    "collapsed": true
   },
   "outputs": [],
   "source": [
    "data_train_09,Y_train_09 = data_09[0:29400,:],     Y[0:29400,:]\n",
    "data_val_09, Y_val_09    = data_09[29400:35700,:],  Y[29400:35700,:]\n",
    "data_test_09, Y_test_09  = data_09[35700:,:],      Y[35700:,:]"
   ]
  },
  {
   "cell_type": "code",
   "execution_count": 11,
   "metadata": {
    "collapsed": true
   },
   "outputs": [],
   "source": [
    "y_labels_train = y_labels[0:29400]\n",
    "y_labels_val = y_labels[29400:35700]\n",
    "y_labels_test = y_labels[35700:]"
   ]
  },
  {
   "cell_type": "code",
   "execution_count": 12,
   "metadata": {},
   "outputs": [
    {
     "name": "stdout",
     "output_type": "stream",
     "text": [
      "(29400, 708) (29400, 10)\n",
      "(6300, 708) (6300, 10)\n",
      "(6300, 708) (6300, 10)\n"
     ]
    }
   ],
   "source": [
    "print(data_train_09.shape,Y_train_09.shape)\n",
    "print(data_val_09.shape, Y_val_09.shape)\n",
    "print(data_test_09.shape, Y_test_09.shape)"
   ]
  },
  {
   "cell_type": "markdown",
   "metadata": {},
   "source": [
    "<hr />\n",
    "\n",
    "### Mean normalize the data sets\n",
    "Each of the data sets are normalized using the mean and standard deviation from the whole 42000 element data set. The make_multinomial_features functions is used here simply to add the column of 1's to the data for the bias term. \n"
   ]
  },
  {
   "cell_type": "code",
   "execution_count": 14,
   "metadata": {},
   "outputs": [],
   "source": [
    "X_mean = data_09.mean(axis=0)\n",
    "X_std  = data_09.std(axis=0)\n",
    "X_std[X_std==0]=1.0 # if there are any 0 values in X_std set them to 1\n",
    "\n",
    "order = [1]\n",
    "\n",
    "X_train = make_multinomial_features(data_train_09, order=order)\n",
    "X_train[:,1:] = apply_normalizer(X_train[:,1:],X_mean,X_std)\n",
    "Y_train = Y_train_09\n",
    "\n",
    "X_val = make_multinomial_features(data_val_09, order=order)\n",
    "X_val[:,1:] = apply_normalizer(X_val[:,1:],X_mean,X_std)\n",
    "Y_val = Y_val_09\n",
    "\n",
    "X_test = make_multinomial_features(data_test_09, order=order)\n",
    "X_test[:,1:] = apply_normalizer(X_test[:,1:],X_mean,X_std)\n",
    "Y_test = Y_test_09"
   ]
  },
  {
   "cell_type": "markdown",
   "metadata": {},
   "source": [
    "<hr />\n",
    "### Find optimal parameters for the 10 models\n",
    "**This is the main training loop.** All 10 models are optimized using the columns of $Y$ and the training data set. Each model is fit to it's number (0-9) by evaluation it's cost function against all of the other numbers \"the rest\".\n",
    "\n",
    "You can see that some of the models required many more iterations before convergence. There was also some numerical overflow present. I'm not too concerned about this since it is an artifact of the optimization run. The models converged OK and gave reasonably good set of parameters for each of the 10 models. It is possible to work on each model separately to try to get better fits and the regularization term could be adjusted per model. I did play with the optimization somewhat but wont worry about it too much since in teh next post I'll be doing an implementation of \"Stochastic Gradient Descent\" and will likely use this data again as an example. \n"
   ]
  },
  {
   "cell_type": "code",
   "execution_count": 15,
   "metadata": {},
   "outputs": [
    {
     "name": "stdout",
     "output_type": "stream",
     "text": [
      "\n",
      "Fitting 0 against the rest\n",
      "\n",
      "Warning: Desired error not necessarily achieved due to precision loss.\n",
      "         Current function value: 0.028295\n",
      "         Iterations: 27\n",
      "         Function evaluations: 586\n",
      "         Gradient evaluations: 573\n",
      "\n",
      "Fitting 1 against the rest\n",
      "\n"
     ]
    },
    {
     "name": "stderr",
     "output_type": "stream",
     "text": [
      "/home/kinghorn/anaconda3/lib/python3.6/site-packages/ipykernel_launcher.py:5: RuntimeWarning: overflow encountered in exp\n",
      "  \"\"\"\n",
      "/home/kinghorn/anaconda3/lib/python3.6/site-packages/ipykernel_launcher.py:12: RuntimeWarning: divide by zero encountered in log\n",
      "  if sys.path[0] == '':\n"
     ]
    },
    {
     "name": "stdout",
     "output_type": "stream",
     "text": [
      "Warning: Desired error not necessarily achieved due to precision loss.\n",
      "         Current function value: 0.031864\n",
      "         Iterations: 17\n",
      "         Function evaluations: 230\n",
      "         Gradient evaluations: 217\n",
      "\n",
      "Fitting 2 against the rest\n",
      "\n",
      "Warning: Desired error not necessarily achieved due to precision loss.\n",
      "         Current function value: 0.070383\n",
      "         Iterations: 45\n",
      "         Function evaluations: 1182\n",
      "         Gradient evaluations: 1168\n",
      "\n",
      "Fitting 3 against the rest\n",
      "\n",
      "Warning: Desired error not necessarily achieved due to precision loss.\n",
      "         Current function value: 0.086118\n",
      "         Iterations: 32\n",
      "         Function evaluations: 330\n",
      "         Gradient evaluations: 318\n",
      "\n",
      "Fitting 4 against the rest\n",
      "\n",
      "Warning: Desired error not necessarily achieved due to precision loss.\n",
      "         Current function value: 0.052558\n",
      "         Iterations: 20\n",
      "         Function evaluations: 254\n",
      "         Gradient evaluations: 240\n",
      "\n",
      "Fitting 5 against the rest\n",
      "\n",
      "Warning: Desired error not necessarily achieved due to precision loss.\n",
      "         Current function value: 0.119611\n",
      "         Iterations: 14\n",
      "         Function evaluations: 127\n",
      "         Gradient evaluations: 116\n",
      "\n",
      "Fitting 6 against the rest\n",
      "\n",
      "Warning: Desired error not necessarily achieved due to precision loss.\n",
      "         Current function value: 0.045620\n",
      "         Iterations: 21\n",
      "         Function evaluations: 273\n",
      "         Gradient evaluations: 261\n",
      "\n",
      "Fitting 7 against the rest\n",
      "\n",
      "Warning: Desired error not necessarily achieved due to precision loss.\n",
      "         Current function value: 0.089702\n",
      "         Iterations: 13\n",
      "         Function evaluations: 188\n",
      "         Gradient evaluations: 176\n",
      "\n",
      "Fitting 8 against the rest\n",
      "\n",
      "Warning: Desired error not necessarily achieved due to precision loss.\n",
      "         Current function value: 0.168584\n",
      "         Iterations: 11\n",
      "         Function evaluations: 126\n",
      "         Gradient evaluations: 114\n",
      "\n",
      "Fitting 9 against the rest\n",
      "\n",
      "Warning: Desired error not necessarily achieved due to precision loss.\n",
      "         Current function value: 0.105018\n",
      "         Iterations: 57\n",
      "         Function evaluations: 1374\n",
      "         Gradient evaluations: 1358\n"
     ]
    }
   ],
   "source": [
    "reg =300.0 # Regularization term\n",
    "np.random.seed(42)\n",
    "aguess = np.random.randn(X_train.shape[1]) # A random guess for the parameters \n",
    "A_opt = np.zeros((X_train.shape[1],10)) # The matrix of optimized parameters \n",
    "Res=[] # List to hold the full optimizitaion output of each model\n",
    "\n",
    "for i in range(10):\n",
    "    print('\\nFitting {} against the rest\\n'.format(i))\n",
    "    def opt_J_reg(a) :\n",
    "        return J(X_train,a,Y_train[:,i])\n",
    "    def opt_gradJ_reg(a) :\n",
    "        return gradJ_reg(X_train,a,Y_train[:,i],reg)\n",
    "    \n",
    "    res = minimize(opt_J_reg, aguess, method='CG', jac=opt_gradJ_reg, tol=1e-6, options={'disp': True})\n",
    "    Res.append(res)\n",
    "    A_opt[:,i] = res.x"
   ]
  },
  {
   "cell_type": "markdown",
   "metadata": {},
   "source": [
    "<hr />\n",
    "You can look at the fit quality of each model. The model for the digit 8 has the worst finial value for the cost function and it looks like it had many false negatives. I am using the Validation data set check the quality of fit."
   ]
  },
  {
   "cell_type": "code",
   "execution_count": 22,
   "metadata": {},
   "outputs": [
    {
     "name": "stdout",
     "output_type": "stream",
     "text": [
      "\n",
      "# \n",
      "# Validation-data fit \n",
      "#\n",
      "Total number of data points   = 6300\n",
      "Number of Positive values(1s) = 611\n",
      "Number of Negative values(0s) = 5689\n",
      "\n",
      "Number of True Positives = 341\n",
      "Number of False Positives = 69\n",
      "\n",
      "Number of True Negatives = 5620\n",
      "Number of False Negatives = 270\n",
      "\n",
      "Model Accuracy = 94.62%\n",
      "Model Accuracy Positive Cases = 55.81%\n",
      "Model Accuracy Negative Cases = 98.79%\n",
      "\n",
      "Model Precision = 0.8317073170731707\n",
      "\n",
      "Model Recall = 0.55810147299509\n"
     ]
    }
   ],
   "source": [
    "num=8\n",
    "a_opt = A_opt[:,num]\n",
    "h_prob = h_logistic(X_val,a_opt)\n",
    "h_predict = to_0_1(h_prob)\n",
    "print_model_quality('Validation-data fit', h_predict, Y_val[:,num])"
   ]
  },
  {
   "cell_type": "markdown",
   "metadata": {},
   "source": [
    "<hr />\n",
    "The fit for the \"0\" model has a low cost function and the quality of fit looks much better than that for \"8\"."
   ]
  },
  {
   "cell_type": "code",
   "execution_count": 23,
   "metadata": {},
   "outputs": [
    {
     "name": "stdout",
     "output_type": "stream",
     "text": [
      "\n",
      "# \n",
      "# Validation-data fit \n",
      "#\n",
      "Total number of data points   = 6300\n",
      "Number of Positive values(1s) = 618\n",
      "Number of Negative values(0s) = 5682\n",
      "\n",
      "Number of True Positives = 577\n",
      "Number of False Positives = 44\n",
      "\n",
      "Number of True Negatives = 5638\n",
      "Number of False Negatives = 41\n",
      "\n",
      "Model Accuracy = 98.65%\n",
      "Model Accuracy Positive Cases = 93.37%\n",
      "Model Accuracy Negative Cases = 99.23%\n",
      "\n",
      "Model Precision = 0.92914653784219\n",
      "\n",
      "Model Recall = 0.9336569579288025\n"
     ]
    }
   ],
   "source": [
    "num=0\n",
    "a_opt = A_opt[:,num]\n",
    "h_prob = h_logistic(X_val,a_opt)\n",
    "h_predict = to_0_1(h_prob)\n",
    "print_model_quality('Validation-data fit', h_predict, Y_val[:,num])"
   ]
  },
  {
   "cell_type": "markdown",
   "metadata": {},
   "source": [
    "<hr />\n",
    "### Use the model to make predictions for untested number images\n",
    "\n",
    "The following function will return the probabilities predicted by each of the models for some given input image. The probabilities are sorted with the most likely being listed first.\n"
   ]
  },
  {
   "cell_type": "code",
   "execution_count": 24,
   "metadata": {},
   "outputs": [],
   "source": [
    "def predict(sample, sample_label):\n",
    "    print('\\nTest sample is : {}\\n'.format(sample_label))\n",
    "    probs = np.zeros((10,2))\n",
    "    for num in range(10):\n",
    "        a_opt = A_opt[:,num]\n",
    "        probs[num,0] = num\n",
    "        probs[num,1] = h_logistic(sample,a_opt)\n",
    "\n",
    "    probs = probs[probs[:,1].argsort()[::-1]] # put the best guess at the top\n",
    "    print('Model prediction probabilites\\n')\n",
    "    for i in range(10):\n",
    "        print( \"{} with probability = {:.3f}\".format(int(probs[i,0]), probs[i,1]) )\n",
    "        "
   ]
  },
  {
   "cell_type": "markdown",
   "metadata": {},
   "source": [
    "<hr />\n",
    "Following are a few random images picked from the test set.\n",
    "\n",
    "The first image is of an \"8\". You can see that the model did not give a very high probability for \"8\" but it was higher than any of the other probabilities so it did give the correct answer!"
   ]
  },
  {
   "cell_type": "code",
   "execution_count": 25,
   "metadata": {},
   "outputs": [
    {
     "name": "stdout",
     "output_type": "stream",
     "text": [
      "\n",
      "Test sample is : 8\n",
      "\n",
      "Model prediction probabilites\n",
      "\n",
      "8 with probability = 0.253\n",
      "3 with probability = 0.097\n",
      "9 with probability = 0.081\n",
      "5 with probability = 0.000\n",
      "2 with probability = 0.000\n",
      "7 with probability = 0.000\n",
      "4 with probability = 0.000\n",
      "1 with probability = 0.000\n",
      "6 with probability = 0.000\n",
      "0 with probability = 0.000\n"
     ]
    }
   ],
   "source": [
    "samp = 23\n",
    "samp_label = y_labels_test[samp]\n",
    "sample = X_test[samp,:]\n",
    "predict(sample, samp_label)"
   ]
  },
  {
   "cell_type": "code",
   "execution_count": 18,
   "metadata": {},
   "outputs": [
    {
     "name": "stdout",
     "output_type": "stream",
     "text": [
      "\n",
      "Test sample is : 2\n",
      "\n",
      "Model prediction probabilites\n",
      "\n",
      "2 with probability = 0.994\n",
      "6 with probability = 0.016\n",
      "3 with probability = 0.004\n",
      "1 with probability = 0.000\n",
      "9 with probability = 0.000\n",
      "0 with probability = 0.000\n",
      "5 with probability = 0.000\n",
      "8 with probability = 0.000\n",
      "4 with probability = 0.000\n",
      "7 with probability = 0.000\n"
     ]
    }
   ],
   "source": [
    "samp = 147\n",
    "samp_label = y_labels_test[samp]\n",
    "sample = X_test[samp,:]\n",
    "predict(sample,samp_label)"
   ]
  },
  {
   "cell_type": "code",
   "execution_count": 27,
   "metadata": {},
   "outputs": [
    {
     "name": "stdout",
     "output_type": "stream",
     "text": [
      "\n",
      "Test sample is : 4\n",
      "\n",
      "Model prediction probabilites\n",
      "\n",
      "4 with probability = 0.977\n",
      "2 with probability = 0.034\n",
      "7 with probability = 0.022\n",
      "9 with probability = 0.005\n",
      "3 with probability = 0.002\n",
      "6 with probability = 0.002\n",
      "0 with probability = 0.002\n",
      "8 with probability = 0.001\n",
      "5 with probability = 0.001\n",
      "1 with probability = 0.001\n"
     ]
    }
   ],
   "source": [
    "samp = 6200\n",
    "samp_label = y_labels_test[samp]\n",
    "sample = X_test[samp,:]\n",
    "predict(sample,samp_label)"
   ]
  },
  {
   "cell_type": "markdown",
   "metadata": {},
   "source": [
    "<hr />\n",
    "### Checking how well the model did for each of the datasets\n",
    "The next function will give a printout of the percentage of correct prediction in a dataset. We first look at the training and validation sets."
   ]
  },
  {
   "cell_type": "code",
   "execution_count": 28,
   "metadata": {},
   "outputs": [],
   "source": [
    "def print_num_correct(datasets):\n",
    "    for dataset in datasets : \n",
    "        set_name, yl, Xd = dataset\n",
    "        yls = yl.size\n",
    "        probs = np.zeros((10,2))\n",
    "        count = 0\n",
    "        for samp in range(yls):\n",
    "            for num in range(10):\n",
    "                a_opt = A_opt[:,num]\n",
    "                probs[num,0] = num\n",
    "                probs[num,1] = h_logistic(Xd[samp,:],a_opt)\n",
    "\n",
    "            probs = probs[probs[:,1].argsort()[::-1]]\n",
    "            if probs[0,0] == yl[samp] :\n",
    "                count +=1\n",
    "        print('\\n{}'.format(set_name))\n",
    "        print(\"{} correct out of {} : {}% correct\".format(count, yls, count/yls * 100)) \n",
    "        "
   ]
  },
  {
   "cell_type": "code",
   "execution_count": 29,
   "metadata": {},
   "outputs": [
    {
     "name": "stdout",
     "output_type": "stream",
     "text": [
      "\n",
      "Training Set:\n",
      "26481 correct out of 29400 : 90.07142857142857% correct\n",
      "\n",
      "Validation Set:\n",
      "5590 correct out of 6300 : 88.73015873015872% correct\n"
     ]
    }
   ],
   "source": [
    "datasets = [('Training Set:', y_labels_train, X_train),('Validation Set:',y_labels_val, X_val)]\n",
    "print_num_correct(datasets)"
   ]
  },
  {
   "cell_type": "markdown",
   "metadata": {},
   "source": [
    "... and now the test set."
   ]
  },
  {
   "cell_type": "code",
   "execution_count": 30,
   "metadata": {},
   "outputs": [
    {
     "name": "stdout",
     "output_type": "stream",
     "text": [
      "\n",
      "Test Set:\n",
      "5597 correct out of 6300 : 88.84126984126985% correct\n"
     ]
    }
   ],
   "source": [
    "print_num_correct([('Test Set:', y_labels_test, X_test)])"
   ]
  },
  {
   "cell_type": "markdown",
   "metadata": {},
   "source": [
    "<hr />\n",
    "\n",
    "### Conclusion\n",
    "\n",
    "That's not too bad for a simple method like Logistic Regression. It was fairly easy to implement and extend to the multi-class case. The results showing the number correct is fairly consistent across the different datasets and it looks like it has a prediction value of around 88%.\n",
    "\n",
    "<hr />\n",
    "In the next post I'll do an implementation of Stochastic Gradient Descent (SGD) which is commonly used in machine learning especially for training neural networks. I may be able to add multinomial features to the digits model using SGD for the optimization since it should work well with very large numbers of features. We'll see :-)\n",
    "<hr />\n",
    "\n",
    "#### Happy computing!  --dbk  \n",
    "   "
   ]
  }
 ],
 "metadata": {
  "kernelspec": {
   "display_name": "Python 3",
   "language": "python",
   "name": "python3"
  },
  "language_info": {
   "codemirror_mode": {
    "name": "ipython",
    "version": 3
   },
   "file_extension": ".py",
   "mimetype": "text/x-python",
   "name": "python",
   "nbconvert_exporter": "python",
   "pygments_lexer": "ipython3",
   "version": "3.6.1"
  }
 },
 "nbformat": 4,
 "nbformat_minor": 2
}
