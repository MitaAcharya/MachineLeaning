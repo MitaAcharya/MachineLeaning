{
 "cells": [
  {
   "cell_type": "markdown",
   "metadata": {},
   "source": [
    "# cursor for database - Buffered and unBuffered"
   ]
  },
  {
   "cell_type": "code",
   "execution_count": 89,
   "metadata": {},
   "outputs": [],
   "source": [
    "import mysql.connector"
   ]
  },
  {
   "cell_type": "code",
   "execution_count": 90,
   "metadata": {},
   "outputs": [],
   "source": [
    "host_name = \"localhost\"\n",
    "user_name = \"root\"\n",
    "user_password = \"root@123\"\n",
    "user_auth_plugin = \"mysql_native_password\"\n",
    "database_name = \"testing\"\n",
    "database_port = 3306"
   ]
  },
  {
   "cell_type": "code",
   "execution_count": 91,
   "metadata": {},
   "outputs": [],
   "source": [
    "conn = mysql.connector.connect(\n",
    "\thost=host_name,\n",
    "\tuser=user_name,\n",
    "\tpasswd=user_password,\n",
    "\tauth_plugin=user_auth_plugin,\n",
    "\tdb=database_name,\n",
    "\tport=database_port\n",
    "\t)"
   ]
  },
  {
   "cell_type": "code",
   "execution_count": 92,
   "metadata": {},
   "outputs": [],
   "source": [
    "buffered_cursor = conn.cursor(buffered=True)\n",
    "unbuffered_cursor = conn.cursor(buffered=False)\n"
   ]
  },
  {
   "cell_type": "markdown",
   "metadata": {},
   "source": [
    "rowcount attribute of an unbuffered cursor returns -1 right after the execute method is called. This, basically, means that the entire result set has not yet been fetched from the server. Furthermore, the rowcount attribute of an unbuffered cursor increases as you fetch rows from it, while the rowcount attribute of a buffered cursor remains the same, as you fetch rows from it."
   ]
  },
  {
   "cell_type": "code",
   "execution_count": 93,
   "metadata": {},
   "outputs": [],
   "source": [
    "# Below code giving error when we are trying to execute multiple queries , Its known Bug so i am diving code in step by step to \n",
    "# avoid error\n",
    "\n",
    "# create_query = \"\"\"\n",
    "# drop table if exists people;\n",
    "# create table if not exists people (\n",
    "#     personid int(10) unsigned auto_increment,\n",
    "#     firstname varchar(255),\n",
    "#     lastname varchar(255),\n",
    "#     primary key (personid)\n",
    "# );\n",
    "# insert into people (firstname, lastname)\n",
    "# values ('Jon', 'Bon Jovi'),\n",
    "# ('David', 'Bryan'),\n",
    "# ('Tico', 'Torres'),\n",
    "# ('Phil', 'Xenidis'),\n",
    "# ('Hugh', 'McDonald')\n",
    "# \"\"\"\n",
    "# results = buffered_cursor.execute(create_query, multi=True)\n",
    "# conn.commit()\n",
    "\n"
   ]
  },
  {
   "cell_type": "code",
   "execution_count": 94,
   "metadata": {},
   "outputs": [],
   "source": [
    "create_query = \"drop table if exists people\""
   ]
  },
  {
   "cell_type": "code",
   "execution_count": 95,
   "metadata": {},
   "outputs": [],
   "source": [
    "# Create and populate a table\n",
    "# results = buffered_cursor.execute(create_query,multi=True)\n",
    "buffered_cursor.execute(create_query)\n"
   ]
  },
  {
   "cell_type": "code",
   "execution_count": 96,
   "metadata": {},
   "outputs": [],
   "source": [
    "conn.commit()"
   ]
  },
  {
   "cell_type": "code",
   "execution_count": 97,
   "metadata": {},
   "outputs": [],
   "source": [
    "create_query = \"\"\"create table people ( \n",
    "    personid int(10) unsigned auto_increment,\n",
    "    firstname varchar(255),\n",
    "    lastname varchar(255),\n",
    "    primary key (personid)\n",
    ")\"\"\""
   ]
  },
  {
   "cell_type": "code",
   "execution_count": 98,
   "metadata": {},
   "outputs": [
    {
     "data": {
      "text/plain": [
       "'create table people ( \\n    personid int(10) unsigned auto_increment,\\n    firstname varchar(255),\\n    lastname varchar(255),\\n    primary key (personid)\\n)'"
      ]
     },
     "execution_count": 98,
     "metadata": {},
     "output_type": "execute_result"
    }
   ],
   "source": [
    "create_query"
   ]
  },
  {
   "cell_type": "code",
   "execution_count": 99,
   "metadata": {},
   "outputs": [],
   "source": [
    "buffered_cursor.execute(create_query)"
   ]
  },
  {
   "cell_type": "code",
   "execution_count": 100,
   "metadata": {},
   "outputs": [],
   "source": [
    "conn.commit()"
   ]
  },
  {
   "cell_type": "code",
   "execution_count": 101,
   "metadata": {},
   "outputs": [],
   "source": [
    "create_query = \"\"\"insert into people (firstname, lastname)\n",
    "values ('Jon', 'Bon Jovi'),\n",
    "('David', 'Bryan'),\n",
    "('Tico', 'Torres'),\n",
    "('Phil', 'Xenidis'),\n",
    "('Hugh', 'McDonald')\"\"\""
   ]
  },
  {
   "cell_type": "code",
   "execution_count": 102,
   "metadata": {},
   "outputs": [
    {
     "data": {
      "text/plain": [
       "\"insert into people (firstname, lastname)\\nvalues ('Jon', 'Bon Jovi'),\\n('David', 'Bryan'),\\n('Tico', 'Torres'),\\n('Phil', 'Xenidis'),\\n('Hugh', 'McDonald')\""
      ]
     },
     "execution_count": 102,
     "metadata": {},
     "output_type": "execute_result"
    }
   ],
   "source": [
    "create_query"
   ]
  },
  {
   "cell_type": "code",
   "execution_count": 103,
   "metadata": {},
   "outputs": [],
   "source": [
    "buffered_cursor.execute(create_query)"
   ]
  },
  {
   "cell_type": "code",
   "execution_count": 104,
   "metadata": {},
   "outputs": [],
   "source": [
    "conn.commit()"
   ]
  },
  {
   "cell_type": "code",
   "execution_count": 105,
   "metadata": {},
   "outputs": [
    {
     "name": "stdout",
     "output_type": "stream",
     "text": [
      "Row count from a buffer cursor: 5\n",
      "Row count from an unbuffered cursor: -1\n"
     ]
    }
   ],
   "source": [
    "buffered_cursor.execute(\"select * from people\")\n",
    "print(\"Row count from a buffer cursor:\", buffered_cursor.rowcount)\n",
    "unbuffered_cursor.execute(\"select * from people\")\n",
    "print(\"Row count from an unbuffered cursor:\", unbuffered_cursor.rowcount)\n"
   ]
  },
  {
   "cell_type": "code",
   "execution_count": 106,
   "metadata": {},
   "outputs": [
    {
     "name": "stdout",
     "output_type": "stream",
     "text": [
      "Row: (1, 'Jon', 'Bon Jovi')\n",
      "Row count: 5\n",
      "Row: (2, 'David', 'Bryan')\n",
      "Row count: 5\n",
      "Row: (3, 'Tico', 'Torres')\n",
      "Row count: 5\n",
      "Row: (4, 'Phil', 'Xenidis')\n",
      "Row count: 5\n",
      "Row: (5, 'Hugh', 'McDonald')\n",
      "Row count: 5\n",
      "\n"
     ]
    }
   ],
   "source": [
    "while True:\n",
    "    try:\n",
    "        row = next(buffered_cursor)\n",
    "        print(\"Row:\", row)\n",
    "        print(\"Row count:\", buffered_cursor.rowcount)\n",
    "    except StopIteration:\n",
    "        break\n",
    "\n",
    "print()\n"
   ]
  },
  {
   "cell_type": "code",
   "execution_count": 107,
   "metadata": {},
   "outputs": [
    {
     "name": "stdout",
     "output_type": "stream",
     "text": [
      "Row: (1, 'Jon', 'Bon Jovi')\n",
      "Row count: 1\n",
      "Row: (2, 'David', 'Bryan')\n",
      "Row count: 2\n",
      "Row: (3, 'Tico', 'Torres')\n",
      "Row count: 3\n",
      "Row: (4, 'Phil', 'Xenidis')\n",
      "Row count: 4\n",
      "Row: (5, 'Hugh', 'McDonald')\n",
      "Row count: 5\n"
     ]
    }
   ],
   "source": [
    "while True:\n",
    "    try:\n",
    "        row = next(unbuffered_cursor)\n",
    "        print(\"Row:\", row)\n",
    "        print(\"Row count:\", unbuffered_cursor.rowcount)\n",
    "    except StopIteration:\n",
    "        break"
   ]
  },
  {
   "cell_type": "markdown",
   "metadata": {},
   "source": [
    "Note the row  count for buffered_cursor is always 5 i.e iterator\n",
    "\n",
    "row count for unbuffered_cursor is 1,2,3,4,5 i.e Generator."
   ]
  },
  {
   "cell_type": "code",
   "execution_count": 109,
   "metadata": {},
   "outputs": [],
   "source": [
    "conn.close()"
   ]
  },
  {
   "cell_type": "markdown",
   "metadata": {},
   "source": [
    "Another way of showing difference"
   ]
  },
  {
   "cell_type": "code",
   "execution_count": 110,
   "metadata": {},
   "outputs": [],
   "source": [
    "conn = mysql.connector.connect(\n",
    "\thost=host_name,\n",
    "\tuser=user_name,\n",
    "\tpasswd=user_password,\n",
    "\tauth_plugin=user_auth_plugin,\n",
    "\tdb=database_name,\n",
    "\tport=database_port\n",
    "\t)\n",
    "buffered_cursor = conn.cursor(buffered=True)\n",
    "unbuffered_cursor = conn.cursor(buffered=False)\n"
   ]
  },
  {
   "cell_type": "code",
   "execution_count": 111,
   "metadata": {},
   "outputs": [],
   "source": [
    "create_query = \"drop table if exists people\"\n",
    "buffered_cursor.execute(create_query)\n",
    "conn.commit()\n",
    "\n",
    "create_query = \"\"\"create table people ( \n",
    "    personid int(10) unsigned auto_increment,\n",
    "    firstname varchar(255),\n",
    "    lastname varchar(255),\n",
    "    primary key (personid)\n",
    ")\"\"\"\n",
    "buffered_cursor.execute(create_query)\n",
    "conn.commit()\n",
    "\n",
    "\n",
    "create_query = \"\"\"insert into people (firstname, lastname)\n",
    "values ('Jon', 'Bon Jovi'),\n",
    "('David', 'Bryan'),\n",
    "('Tico', 'Torres'),\n",
    "('Phil', 'Xenidis'),\n",
    "('Hugh', 'McDonald')\"\"\"\n",
    "buffered_cursor.execute(create_query)\n",
    "conn.commit()\n"
   ]
  },
  {
   "cell_type": "code",
   "execution_count": 112,
   "metadata": {},
   "outputs": [
    {
     "data": {
      "text/plain": [
       "(1, 'Jon', 'Bon Jovi')"
      ]
     },
     "execution_count": 112,
     "metadata": {},
     "output_type": "execute_result"
    }
   ],
   "source": [
    "unbuffered_cursor.execute(\"select * from people\")\n",
    "unbuffered_cursor.fetchone()"
   ]
  },
  {
   "cell_type": "code",
   "execution_count": 113,
   "metadata": {},
   "outputs": [
    {
     "ename": "InternalError",
     "evalue": "Unread result found",
     "output_type": "error",
     "traceback": [
      "\u001b[1;31m---------------------------------------------------------------------------\u001b[0m",
      "\u001b[1;31mInternalError\u001b[0m                             Traceback (most recent call last)",
      "\u001b[1;32m<ipython-input-113-39d1d02c9e0f>\u001b[0m in \u001b[0;36m<module>\u001b[1;34m()\u001b[0m\n\u001b[1;32m----> 1\u001b[1;33m \u001b[0mbuffered_cursor\u001b[0m\u001b[1;33m.\u001b[0m\u001b[0mexecute\u001b[0m\u001b[1;33m(\u001b[0m\u001b[1;34m\"select * from people\"\u001b[0m\u001b[1;33m)\u001b[0m\u001b[1;33m\u001b[0m\u001b[0m\n\u001b[0m",
      "\u001b[1;32mD:\\ProgramData\\Anaconda3\\lib\\site-packages\\mysql\\connector\\cursor.py\u001b[0m in \u001b[0;36mexecute\u001b[1;34m(self, operation, params, multi)\u001b[0m\n\u001b[0;32m    534\u001b[0m             \u001b[1;32mraise\u001b[0m \u001b[0merrors\u001b[0m\u001b[1;33m.\u001b[0m\u001b[0mProgrammingError\u001b[0m\u001b[1;33m(\u001b[0m\u001b[1;34m\"Cursor is not connected\"\u001b[0m\u001b[1;33m)\u001b[0m\u001b[1;33m\u001b[0m\u001b[0m\n\u001b[0;32m    535\u001b[0m \u001b[1;33m\u001b[0m\u001b[0m\n\u001b[1;32m--> 536\u001b[1;33m         \u001b[0mself\u001b[0m\u001b[1;33m.\u001b[0m\u001b[0m_connection\u001b[0m\u001b[1;33m.\u001b[0m\u001b[0mhandle_unread_result\u001b[0m\u001b[1;33m(\u001b[0m\u001b[1;33m)\u001b[0m\u001b[1;33m\u001b[0m\u001b[0m\n\u001b[0m\u001b[0;32m    537\u001b[0m \u001b[1;33m\u001b[0m\u001b[0m\n\u001b[0;32m    538\u001b[0m         \u001b[0mself\u001b[0m\u001b[1;33m.\u001b[0m\u001b[0m_reset_result\u001b[0m\u001b[1;33m(\u001b[0m\u001b[1;33m)\u001b[0m\u001b[1;33m\u001b[0m\u001b[0m\n",
      "\u001b[1;32mD:\\ProgramData\\Anaconda3\\lib\\site-packages\\mysql\\connector\\connection.py\u001b[0m in \u001b[0;36mhandle_unread_result\u001b[1;34m(self)\u001b[0m\n\u001b[0;32m   1126\u001b[0m             \u001b[0mself\u001b[0m\u001b[1;33m.\u001b[0m\u001b[0mconsume_results\u001b[0m\u001b[1;33m(\u001b[0m\u001b[1;33m)\u001b[0m\u001b[1;33m\u001b[0m\u001b[0m\n\u001b[0;32m   1127\u001b[0m         \u001b[1;32melif\u001b[0m \u001b[0mself\u001b[0m\u001b[1;33m.\u001b[0m\u001b[0munread_result\u001b[0m\u001b[1;33m:\u001b[0m\u001b[1;33m\u001b[0m\u001b[0m\n\u001b[1;32m-> 1128\u001b[1;33m             \u001b[1;32mraise\u001b[0m \u001b[0merrors\u001b[0m\u001b[1;33m.\u001b[0m\u001b[0mInternalError\u001b[0m\u001b[1;33m(\u001b[0m\u001b[1;34m\"Unread result found\"\u001b[0m\u001b[1;33m)\u001b[0m\u001b[1;33m\u001b[0m\u001b[0m\n\u001b[0m",
      "\u001b[1;31mInternalError\u001b[0m: Unread result found"
     ]
    }
   ],
   "source": [
    "buffered_cursor.execute(\"select * from people\")"
   ]
  },
  {
   "cell_type": "markdown",
   "metadata": {},
   "source": [
    "The snippet above will raise a InternalError exception with a message indicating that there is some unread result. What it is basically saying is that the result returned by the unbuffered cursor needs to be fully consumed before you can execute another query with any cursor under the same connection. If you change unbuffered_cursor.fetchone() with unbuffered_cursor.fetchall(), the error will disappear."
   ]
  },
  {
   "cell_type": "code",
   "execution_count": 114,
   "metadata": {},
   "outputs": [],
   "source": [
    "conn.close()"
   ]
  }
 ],
 "metadata": {
  "kernelspec": {
   "display_name": "Python 3",
   "language": "python",
   "name": "python3"
  },
  "language_info": {
   "codemirror_mode": {
    "name": "ipython",
    "version": 3
   },
   "file_extension": ".py",
   "mimetype": "text/x-python",
   "name": "python",
   "nbconvert_exporter": "python",
   "pygments_lexer": "ipython3",
   "version": "3.6.5"
  }
 },
 "nbformat": 4,
 "nbformat_minor": 2
}
